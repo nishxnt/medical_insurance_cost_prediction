{
 "cells": [
  {
   "cell_type": "markdown",
   "metadata": {},
   "source": [
    "# Project: Medical Insurance Cost Prediction"
   ]
  },
  {
   "cell_type": "markdown",
   "metadata": {},
   "source": [
    "## Table of Contents\n",
    "\n",
    "1. [Importing Packages](#section-one)   \n",
    "\n",
    "2. [Loading the Raw Data](#section-two)\n",
    "\n",
    "3. [Data Exploration](#section-three)\n",
    "\n",
    "4. [Data Pre-Processing](#section-four)\n",
    "\n",
    "    * [Dealing with Outliers](#section-four-one)\n",
    "    * [Exploring the Categorical Features](#section-four-two)\n",
    "    * [Splitting the Features and Target](#section-four-three)\n",
    "    * [Splitting the data into Training and Testing data](#section-four-four)\n",
    "\n",
    "\n",
    "5. [Model Training](#section-five)\n",
    "\n",
    "    * [Linear Regression](#section-five-one)\n",
    "    * [Model Evaluation](#section-five-two)\n",
    "\n",
    "\n",
    "6. [Building a Predictive System.](#section-six)"
   ]
  },
  {
   "cell_type": "markdown",
   "metadata": {
    "_cell_guid": "b1076dfc-b9ad-4769-8c92-a6c4dae69d19",
    "_uuid": "8f2839f25d086af736a60e9eeb907d3b93b6e0e5"
   },
   "source": [
    "<a id=\"section-one\"></a>\n",
    "# 1. Importing Packages"
   ]
  },
  {
   "cell_type": "code",
   "execution_count": 1,
   "metadata": {
    "execution": {
     "iopub.execute_input": "2022-08-27T17:20:56.632336Z",
     "iopub.status.busy": "2022-08-27T17:20:56.631970Z",
     "iopub.status.idle": "2022-08-27T17:20:56.637409Z",
     "shell.execute_reply": "2022-08-27T17:20:56.636588Z",
     "shell.execute_reply.started": "2022-08-27T17:20:56.632303Z"
    }
   },
   "outputs": [],
   "source": [
    "# relevant libraries for this project\n",
    "\n",
    "import numpy as np\n",
    "import pandas as pd\n",
    "import matplotlib.pyplot as plt\n",
    "from sklearn.linear_model import LinearRegression\n",
    "import seaborn as sns\n",
    "sns.set()"
   ]
  },
  {
   "cell_type": "markdown",
   "metadata": {},
   "source": [
    "<a id=\"section-two\"></a>\n",
    "# 2. Loading the raw data"
   ]
  },
  {
   "cell_type": "markdown",
   "metadata": {},
   "source": [
    "We have taken the data of medical health insurance from Kaggle. The file is named 'insurance.csv' and we will be using module 'pandas' to load it."
   ]
  },
  {
   "cell_type": "code",
   "execution_count": 2,
   "metadata": {
    "execution": {
     "iopub.execute_input": "2022-08-27T17:20:56.661994Z",
     "iopub.status.busy": "2022-08-27T17:20:56.661407Z",
     "iopub.status.idle": "2022-08-27T17:20:56.681617Z",
     "shell.execute_reply": "2022-08-27T17:20:56.680715Z",
     "shell.execute_reply.started": "2022-08-27T17:20:56.661954Z"
    }
   },
   "outputs": [
    {
     "data": {
      "text/html": [
       "<div>\n",
       "<style scoped>\n",
       "    .dataframe tbody tr th:only-of-type {\n",
       "        vertical-align: middle;\n",
       "    }\n",
       "\n",
       "    .dataframe tbody tr th {\n",
       "        vertical-align: top;\n",
       "    }\n",
       "\n",
       "    .dataframe thead th {\n",
       "        text-align: right;\n",
       "    }\n",
       "</style>\n",
       "<table border=\"1\" class=\"dataframe\">\n",
       "  <thead>\n",
       "    <tr style=\"text-align: right;\">\n",
       "      <th></th>\n",
       "      <th>age</th>\n",
       "      <th>sex</th>\n",
       "      <th>bmi</th>\n",
       "      <th>children</th>\n",
       "      <th>smoker</th>\n",
       "      <th>region</th>\n",
       "      <th>charges</th>\n",
       "    </tr>\n",
       "  </thead>\n",
       "  <tbody>\n",
       "    <tr>\n",
       "      <th>0</th>\n",
       "      <td>19</td>\n",
       "      <td>female</td>\n",
       "      <td>27.900</td>\n",
       "      <td>0</td>\n",
       "      <td>yes</td>\n",
       "      <td>southwest</td>\n",
       "      <td>16884.92400</td>\n",
       "    </tr>\n",
       "    <tr>\n",
       "      <th>1</th>\n",
       "      <td>18</td>\n",
       "      <td>male</td>\n",
       "      <td>33.770</td>\n",
       "      <td>1</td>\n",
       "      <td>no</td>\n",
       "      <td>southeast</td>\n",
       "      <td>1725.55230</td>\n",
       "    </tr>\n",
       "    <tr>\n",
       "      <th>2</th>\n",
       "      <td>28</td>\n",
       "      <td>male</td>\n",
       "      <td>33.000</td>\n",
       "      <td>3</td>\n",
       "      <td>no</td>\n",
       "      <td>southeast</td>\n",
       "      <td>4449.46200</td>\n",
       "    </tr>\n",
       "    <tr>\n",
       "      <th>3</th>\n",
       "      <td>33</td>\n",
       "      <td>male</td>\n",
       "      <td>22.705</td>\n",
       "      <td>0</td>\n",
       "      <td>no</td>\n",
       "      <td>northwest</td>\n",
       "      <td>21984.47061</td>\n",
       "    </tr>\n",
       "    <tr>\n",
       "      <th>4</th>\n",
       "      <td>32</td>\n",
       "      <td>male</td>\n",
       "      <td>28.880</td>\n",
       "      <td>0</td>\n",
       "      <td>no</td>\n",
       "      <td>northwest</td>\n",
       "      <td>3866.85520</td>\n",
       "    </tr>\n",
       "  </tbody>\n",
       "</table>\n",
       "</div>"
      ],
      "text/plain": [
       "   age     sex     bmi  children smoker     region      charges\n",
       "0   19  female  27.900         0    yes  southwest  16884.92400\n",
       "1   18    male  33.770         1     no  southeast   1725.55230\n",
       "2   28    male  33.000         3     no  southeast   4449.46200\n",
       "3   33    male  22.705         0     no  northwest  21984.47061\n",
       "4   32    male  28.880         0     no  northwest   3866.85520"
      ]
     },
     "execution_count": 2,
     "metadata": {},
     "output_type": "execute_result"
    }
   ],
   "source": [
    "# Panda dataframe\n",
    "\n",
    "raw_data = pd.read_csv('C:\\\\Users\\\\Nishant Gupta\\\\Desktop\\\\Projects\\\\regression_project_Nishant_Gupta\\\\insurance.csv')\n",
    "\n",
    "# Let's have a quick look at the dataset\n",
    "\n",
    "raw_data.head()"
   ]
  },
  {
   "cell_type": "markdown",
   "metadata": {},
   "source": [
    "Here, we have the first 5 rows of the given dataset to have a look at it and understand it. We are going to predict the 'charges' so it will become the target and rest columns are the features!"
   ]
  },
  {
   "cell_type": "code",
   "execution_count": 3,
   "metadata": {
    "execution": {
     "iopub.execute_input": "2022-08-27T17:20:56.686644Z",
     "iopub.status.busy": "2022-08-27T17:20:56.686019Z",
     "iopub.status.idle": "2022-08-27T17:20:56.693104Z",
     "shell.execute_reply": "2022-08-27T17:20:56.692235Z",
     "shell.execute_reply.started": "2022-08-27T17:20:56.686602Z"
    }
   },
   "outputs": [
    {
     "data": {
      "text/plain": [
       "(1338, 7)"
      ]
     },
     "execution_count": 3,
     "metadata": {},
     "output_type": "execute_result"
    }
   ],
   "source": [
    "# let's check the number of rows and columns in the dataset\n",
    "\n",
    "raw_data.shape"
   ]
  },
  {
   "cell_type": "markdown",
   "metadata": {},
   "source": [
    "We have 1338 rows and 7 columns in the dataset."
   ]
  },
  {
   "cell_type": "code",
   "execution_count": 4,
   "metadata": {
    "execution": {
     "iopub.execute_input": "2022-08-27T17:20:56.702455Z",
     "iopub.status.busy": "2022-08-27T17:20:56.701723Z",
     "iopub.status.idle": "2022-08-27T17:20:56.714633Z",
     "shell.execute_reply": "2022-08-27T17:20:56.713940Z",
     "shell.execute_reply.started": "2022-08-27T17:20:56.702427Z"
    }
   },
   "outputs": [
    {
     "name": "stdout",
     "output_type": "stream",
     "text": [
      "<class 'pandas.core.frame.DataFrame'>\n",
      "RangeIndex: 1338 entries, 0 to 1337\n",
      "Data columns (total 7 columns):\n",
      " #   Column    Non-Null Count  Dtype  \n",
      "---  ------    --------------  -----  \n",
      " 0   age       1338 non-null   int64  \n",
      " 1   sex       1338 non-null   object \n",
      " 2   bmi       1338 non-null   float64\n",
      " 3   children  1338 non-null   int64  \n",
      " 4   smoker    1338 non-null   object \n",
      " 5   region    1338 non-null   object \n",
      " 6   charges   1338 non-null   float64\n",
      "dtypes: float64(2), int64(2), object(3)\n",
      "memory usage: 73.3+ KB\n"
     ]
    }
   ],
   "source": [
    "# Some more information about the dataset\n",
    "\n",
    "raw_data.info()"
   ]
  },
  {
   "cell_type": "code",
   "execution_count": 5,
   "metadata": {
    "execution": {
     "iopub.execute_input": "2022-08-27T17:20:56.764224Z",
     "iopub.status.busy": "2022-08-27T17:20:56.763671Z",
     "iopub.status.idle": "2022-08-27T17:20:56.791924Z",
     "shell.execute_reply": "2022-08-27T17:20:56.791075Z",
     "shell.execute_reply.started": "2022-08-27T17:20:56.764191Z"
    }
   },
   "outputs": [
    {
     "data": {
      "text/html": [
       "<div>\n",
       "<style scoped>\n",
       "    .dataframe tbody tr th:only-of-type {\n",
       "        vertical-align: middle;\n",
       "    }\n",
       "\n",
       "    .dataframe tbody tr th {\n",
       "        vertical-align: top;\n",
       "    }\n",
       "\n",
       "    .dataframe thead th {\n",
       "        text-align: right;\n",
       "    }\n",
       "</style>\n",
       "<table border=\"1\" class=\"dataframe\">\n",
       "  <thead>\n",
       "    <tr style=\"text-align: right;\">\n",
       "      <th></th>\n",
       "      <th>age</th>\n",
       "      <th>sex</th>\n",
       "      <th>bmi</th>\n",
       "      <th>children</th>\n",
       "      <th>smoker</th>\n",
       "      <th>region</th>\n",
       "      <th>charges</th>\n",
       "    </tr>\n",
       "  </thead>\n",
       "  <tbody>\n",
       "    <tr>\n",
       "      <th>count</th>\n",
       "      <td>1338.000000</td>\n",
       "      <td>1338</td>\n",
       "      <td>1338.000000</td>\n",
       "      <td>1338.000000</td>\n",
       "      <td>1338</td>\n",
       "      <td>1338</td>\n",
       "      <td>1338.000000</td>\n",
       "    </tr>\n",
       "    <tr>\n",
       "      <th>unique</th>\n",
       "      <td>NaN</td>\n",
       "      <td>2</td>\n",
       "      <td>NaN</td>\n",
       "      <td>NaN</td>\n",
       "      <td>2</td>\n",
       "      <td>4</td>\n",
       "      <td>NaN</td>\n",
       "    </tr>\n",
       "    <tr>\n",
       "      <th>top</th>\n",
       "      <td>NaN</td>\n",
       "      <td>male</td>\n",
       "      <td>NaN</td>\n",
       "      <td>NaN</td>\n",
       "      <td>no</td>\n",
       "      <td>southeast</td>\n",
       "      <td>NaN</td>\n",
       "    </tr>\n",
       "    <tr>\n",
       "      <th>freq</th>\n",
       "      <td>NaN</td>\n",
       "      <td>676</td>\n",
       "      <td>NaN</td>\n",
       "      <td>NaN</td>\n",
       "      <td>1064</td>\n",
       "      <td>364</td>\n",
       "      <td>NaN</td>\n",
       "    </tr>\n",
       "    <tr>\n",
       "      <th>mean</th>\n",
       "      <td>39.207025</td>\n",
       "      <td>NaN</td>\n",
       "      <td>30.663397</td>\n",
       "      <td>1.094918</td>\n",
       "      <td>NaN</td>\n",
       "      <td>NaN</td>\n",
       "      <td>13270.422265</td>\n",
       "    </tr>\n",
       "    <tr>\n",
       "      <th>std</th>\n",
       "      <td>14.049960</td>\n",
       "      <td>NaN</td>\n",
       "      <td>6.098187</td>\n",
       "      <td>1.205493</td>\n",
       "      <td>NaN</td>\n",
       "      <td>NaN</td>\n",
       "      <td>12110.011237</td>\n",
       "    </tr>\n",
       "    <tr>\n",
       "      <th>min</th>\n",
       "      <td>18.000000</td>\n",
       "      <td>NaN</td>\n",
       "      <td>15.960000</td>\n",
       "      <td>0.000000</td>\n",
       "      <td>NaN</td>\n",
       "      <td>NaN</td>\n",
       "      <td>1121.873900</td>\n",
       "    </tr>\n",
       "    <tr>\n",
       "      <th>25%</th>\n",
       "      <td>27.000000</td>\n",
       "      <td>NaN</td>\n",
       "      <td>26.296250</td>\n",
       "      <td>0.000000</td>\n",
       "      <td>NaN</td>\n",
       "      <td>NaN</td>\n",
       "      <td>4740.287150</td>\n",
       "    </tr>\n",
       "    <tr>\n",
       "      <th>50%</th>\n",
       "      <td>39.000000</td>\n",
       "      <td>NaN</td>\n",
       "      <td>30.400000</td>\n",
       "      <td>1.000000</td>\n",
       "      <td>NaN</td>\n",
       "      <td>NaN</td>\n",
       "      <td>9382.033000</td>\n",
       "    </tr>\n",
       "    <tr>\n",
       "      <th>75%</th>\n",
       "      <td>51.000000</td>\n",
       "      <td>NaN</td>\n",
       "      <td>34.693750</td>\n",
       "      <td>2.000000</td>\n",
       "      <td>NaN</td>\n",
       "      <td>NaN</td>\n",
       "      <td>16639.912515</td>\n",
       "    </tr>\n",
       "    <tr>\n",
       "      <th>max</th>\n",
       "      <td>64.000000</td>\n",
       "      <td>NaN</td>\n",
       "      <td>53.130000</td>\n",
       "      <td>5.000000</td>\n",
       "      <td>NaN</td>\n",
       "      <td>NaN</td>\n",
       "      <td>63770.428010</td>\n",
       "    </tr>\n",
       "  </tbody>\n",
       "</table>\n",
       "</div>"
      ],
      "text/plain": [
       "                age   sex          bmi     children smoker     region  \\\n",
       "count   1338.000000  1338  1338.000000  1338.000000   1338       1338   \n",
       "unique          NaN     2          NaN          NaN      2          4   \n",
       "top             NaN  male          NaN          NaN     no  southeast   \n",
       "freq            NaN   676          NaN          NaN   1064        364   \n",
       "mean      39.207025   NaN    30.663397     1.094918    NaN        NaN   \n",
       "std       14.049960   NaN     6.098187     1.205493    NaN        NaN   \n",
       "min       18.000000   NaN    15.960000     0.000000    NaN        NaN   \n",
       "25%       27.000000   NaN    26.296250     0.000000    NaN        NaN   \n",
       "50%       39.000000   NaN    30.400000     1.000000    NaN        NaN   \n",
       "75%       51.000000   NaN    34.693750     2.000000    NaN        NaN   \n",
       "max       64.000000   NaN    53.130000     5.000000    NaN        NaN   \n",
       "\n",
       "             charges  \n",
       "count    1338.000000  \n",
       "unique           NaN  \n",
       "top              NaN  \n",
       "freq             NaN  \n",
       "mean    13270.422265  \n",
       "std     12110.011237  \n",
       "min      1121.873900  \n",
       "25%      4740.287150  \n",
       "50%      9382.033000  \n",
       "75%     16639.912515  \n",
       "max     63770.428010  "
      ]
     },
     "execution_count": 5,
     "metadata": {},
     "output_type": "execute_result"
    }
   ],
   "source": [
    "# let's check the descriptive statistics of the variables\n",
    "\n",
    "raw_data.describe(include='all')"
   ]
  },
  {
   "cell_type": "markdown",
   "metadata": {},
   "source": [
    "Here, we understand that categorical variables don't have some types of numerical descriptives and numerical variables don't have some types of categorical descriptives. Therefore, we have 3 categorical variables (features) in this dataset: Sex, Smoker, and Region."
   ]
  },
  {
   "cell_type": "code",
   "execution_count": 6,
   "metadata": {
    "execution": {
     "iopub.execute_input": "2022-08-27T17:20:56.793630Z",
     "iopub.status.busy": "2022-08-27T17:20:56.793358Z",
     "iopub.status.idle": "2022-08-27T17:20:56.801450Z",
     "shell.execute_reply": "2022-08-27T17:20:56.799818Z",
     "shell.execute_reply.started": "2022-08-27T17:20:56.793606Z"
    }
   },
   "outputs": [
    {
     "data": {
      "text/plain": [
       "age         0\n",
       "sex         0\n",
       "bmi         0\n",
       "children    0\n",
       "smoker      0\n",
       "region      0\n",
       "charges     0\n",
       "dtype: int64"
      ]
     },
     "execution_count": 6,
     "metadata": {},
     "output_type": "execute_result"
    }
   ],
   "source": [
    "# Checking the total number of missing values\n",
    "\n",
    "raw_data.isnull().sum()"
   ]
  },
  {
   "cell_type": "markdown",
   "metadata": {},
   "source": [
    "Great! We do not have any missing values and won't have to drop any variables."
   ]
  },
  {
   "cell_type": "code",
   "execution_count": 7,
   "metadata": {
    "execution": {
     "iopub.execute_input": "2022-08-27T17:20:56.803087Z",
     "iopub.status.busy": "2022-08-27T17:20:56.802848Z",
     "iopub.status.idle": "2022-08-27T17:20:56.808171Z",
     "shell.execute_reply": "2022-08-27T17:20:56.807255Z",
     "shell.execute_reply.started": "2022-08-27T17:20:56.803065Z"
    }
   },
   "outputs": [],
   "source": [
    "# We have checked the raw data and there aren't any missing values!\n",
    "\n",
    "data_no_mv = raw_data.copy()"
   ]
  },
  {
   "cell_type": "markdown",
   "metadata": {},
   "source": [
    "<a id=\"section-three\"></a>\n",
    "# 3. Data Exploration"
   ]
  },
  {
   "cell_type": "markdown",
   "metadata": {},
   "source": [
    "Displaying the probability distribution function (PDF) of a variable is a fantastic data exploration step. We will see how that variable is spread in the PDF. This makes it very simple to identify outliers and other irregularities. Frequently, the PDF also serves as the foundation for our decision over whether to alter a feature."
   ]
  },
  {
   "cell_type": "code",
   "execution_count": 8,
   "metadata": {
    "execution": {
     "iopub.execute_input": "2022-08-27T17:20:56.819531Z",
     "iopub.status.busy": "2022-08-27T17:20:56.819233Z",
     "iopub.status.idle": "2022-08-27T17:20:57.204030Z",
     "shell.execute_reply": "2022-08-27T17:20:57.203119Z",
     "shell.execute_reply.started": "2022-08-27T17:20:56.819502Z"
    }
   },
   "outputs": [
    {
     "data": {
      "image/png": "[encoded data removed]",
      "text/plain": [
       "<Figure size 360x360 with 1 Axes>"
      ]
     },
     "metadata": {},
     "output_type": "display_data"
    }
   ],
   "source": [
    "# distribution of age variable\n",
    "\n",
    "sns.displot(data_no_mv['age'])\n",
    "plt.title('Distribution of Age')\n",
    "plt.show()"
   ]
  },
  {
   "cell_type": "markdown",
   "metadata": {},
   "source": [
    "As the figure represents that the highest density of people is of age 20-23. From age 24 to 70, the distribution is almost equal."
   ]
  },
  {
   "cell_type": "code",
   "execution_count": 9,
   "metadata": {
    "execution": {
     "iopub.execute_input": "2022-08-27T17:20:57.206123Z",
     "iopub.status.busy": "2022-08-27T17:20:57.205828Z",
     "iopub.status.idle": "2022-08-27T17:20:57.404775Z",
     "shell.execute_reply": "2022-08-27T17:20:57.403810Z",
     "shell.execute_reply.started": "2022-08-27T17:20:57.206096Z"
    }
   },
   "outputs": [
    {
     "data": {
      "text/plain": [
       "<function matplotlib.pyplot.show(close=None, block=None)>"
      ]
     },
     "execution_count": 9,
     "metadata": {},
     "output_type": "execute_result"
    },
    {
     "data": {
      "image/png": "[encoded data removed]",
      "text/plain": [
       "<Figure size 432x288 with 1 Axes>"
      ]
     },
     "metadata": {},
     "output_type": "display_data"
    }
   ],
   "source": [
    "# plot of sex variables\n",
    "\n",
    "sns.countplot(x = 'sex', data = data_no_mv)\n",
    "plt.title('Distribution of sex')\n",
    "plt.show"
   ]
  },
  {
   "cell_type": "markdown",
   "metadata": {},
   "source": [
    "Firstly, we are using 'sns.countplot' because 'sex' is a categorical variables and to represent in a better way.\n",
    "The figure shows that the number of male and female is almost equal."
   ]
  },
  {
   "cell_type": "code",
   "execution_count": 10,
   "metadata": {
    "execution": {
     "iopub.execute_input": "2022-08-27T17:20:57.406507Z",
     "iopub.status.busy": "2022-08-27T17:20:57.406211Z",
     "iopub.status.idle": "2022-08-27T17:20:57.919979Z",
     "shell.execute_reply": "2022-08-27T17:20:57.919008Z",
     "shell.execute_reply.started": "2022-08-27T17:20:57.406478Z"
    }
   },
   "outputs": [
    {
     "data": {
      "image/png": "[encoded data removed]",
      "text/plain": [
       "<Figure size 360x360 with 1 Axes>"
      ]
     },
     "metadata": {},
     "output_type": "display_data"
    }
   ],
   "source": [
    "# distribution of bmi variable\n",
    "\n",
    "sns.displot(data_no_mv['bmi'])\n",
    "plt.title('Distribution of BMI')\n",
    "plt.show()"
   ]
  },
  {
   "cell_type": "markdown",
   "metadata": {},
   "source": [
    "This kind of distribution is normal distribution. The figure shows that we have an gradual increase from 15 to reach the peak values of 30. Then there is a gradual decrease. We may also notice very few outliers and we will take care of them later.\n",
    "\n",
    "According to the research,\n",
    "Normal BMI range is 18.5 to 24.9. A person exceeding the limit is overweight and the person below this limit is underweight. We could see that there are more number of people in this dataset that are overweight!"
   ]
  },
  {
   "cell_type": "code",
   "execution_count": 11,
   "metadata": {
    "execution": {
     "iopub.execute_input": "2022-08-27T17:20:57.922203Z",
     "iopub.status.busy": "2022-08-27T17:20:57.921953Z",
     "iopub.status.idle": "2022-08-27T17:20:58.126767Z",
     "shell.execute_reply": "2022-08-27T17:20:58.125587Z",
     "shell.execute_reply.started": "2022-08-27T17:20:57.922179Z"
    }
   },
   "outputs": [
    {
     "data": {
      "image/png": "[encoded data removed]",
      "text/plain": [
       "<Figure size 432x288 with 1 Axes>"
      ]
     },
     "metadata": {},
     "output_type": "display_data"
    }
   ],
   "source": [
    "# plot of children variable\n",
    "\n",
    "sns.countplot(x = 'children', data = data_no_mv)\n",
    "plt.title('Children')\n",
    "plt.show()"
   ]
  },
  {
   "cell_type": "markdown",
   "metadata": {},
   "source": [
    "According to the figure, there are more number of people with no children. Then there are people having 1-3 children and there are very less people having 4-5 children."
   ]
  },
  {
   "cell_type": "code",
   "execution_count": 12,
   "metadata": {
    "execution": {
     "iopub.execute_input": "2022-08-27T17:20:58.128660Z",
     "iopub.status.busy": "2022-08-27T17:20:58.128266Z",
     "iopub.status.idle": "2022-08-27T17:20:58.301807Z",
     "shell.execute_reply": "2022-08-27T17:20:58.300607Z",
     "shell.execute_reply.started": "2022-08-27T17:20:58.128621Z"
    }
   },
   "outputs": [
    {
     "data": {
      "image/png": "[encoded data removed]",
      "text/plain": [
       "<Figure size 432x288 with 1 Axes>"
      ]
     },
     "metadata": {},
     "output_type": "display_data"
    }
   ],
   "source": [
    "# plot of smoker variable\n",
    "\n",
    "sns.countplot(x = 'smoker', data = data_no_mv)\n",
    "plt.title('Smoker')\n",
    "plt.show()"
   ]
  },
  {
   "cell_type": "markdown",
   "metadata": {},
   "source": [
    "In this dataset, there are more non-smokers than smokers."
   ]
  },
  {
   "cell_type": "code",
   "execution_count": 13,
   "metadata": {
    "execution": {
     "iopub.execute_input": "2022-08-27T17:20:58.303682Z",
     "iopub.status.busy": "2022-08-27T17:20:58.303139Z",
     "iopub.status.idle": "2022-08-27T17:20:58.500083Z",
     "shell.execute_reply": "2022-08-27T17:20:58.499031Z",
     "shell.execute_reply.started": "2022-08-27T17:20:58.303650Z"
    }
   },
   "outputs": [
    {
     "data": {
      "image/png": "[encoded data removed]",
      "text/plain": [
       "<Figure size 432x288 with 1 Axes>"
      ]
     },
     "metadata": {},
     "output_type": "display_data"
    }
   ],
   "source": [
    "# plot of region variable\n",
    "\n",
    "sns.countplot(x = 'region', data = data_no_mv)\n",
    "plt.title('Region')\n",
    "plt.show()"
   ]
  },
  {
   "cell_type": "markdown",
   "metadata": {},
   "source": [
    "We have four regions: Southwest, Southeast, Northwest, and Northeast. People are equally distributed in all the regions with southeast having slightly more number of people than other regions."
   ]
  },
  {
   "cell_type": "code",
   "execution_count": 14,
   "metadata": {
    "execution": {
     "iopub.execute_input": "2022-08-27T17:20:58.501974Z",
     "iopub.status.busy": "2022-08-27T17:20:58.501333Z",
     "iopub.status.idle": "2022-08-27T17:20:58.905356Z",
     "shell.execute_reply": "2022-08-27T17:20:58.904339Z",
     "shell.execute_reply.started": "2022-08-27T17:20:58.501943Z"
    }
   },
   "outputs": [
    {
     "data": {
      "image/png": "[encoded data removed]",
      "text/plain": [
       "<Figure size 360x360 with 1 Axes>"
      ]
     },
     "metadata": {},
     "output_type": "display_data"
    }
   ],
   "source": [
    "# distribution of charges variable\n",
    "\n",
    "sns.displot(data_no_mv['charges'])\n",
    "plt.title('Distribution of Charges')\n",
    "plt.show()"
   ]
  },
  {
   "cell_type": "markdown",
   "metadata": {},
   "source": [
    "Mostly, the charges are around 1000-10,000 dollars."
   ]
  },
  {
   "cell_type": "markdown",
   "metadata": {},
   "source": [
    "<a id=\"section-four\"></a>\n",
    "# 4. Data Pre-Processing"
   ]
  },
  {
   "cell_type": "markdown",
   "metadata": {},
   "source": [
    "<a id=\"section-four-one\"></a>\n",
    "## Dealing with outliers"
   ]
  },
  {
   "cell_type": "code",
   "execution_count": 15,
   "metadata": {
    "execution": {
     "iopub.execute_input": "2022-08-27T17:20:58.907242Z",
     "iopub.status.busy": "2022-08-27T17:20:58.906782Z",
     "iopub.status.idle": "2022-08-27T17:20:59.300158Z",
     "shell.execute_reply": "2022-08-27T17:20:59.299098Z",
     "shell.execute_reply.started": "2022-08-27T17:20:58.907215Z"
    }
   },
   "outputs": [
    {
     "data": {
      "image/png": "[encoded data removed]",
      "text/plain": [
       "<Figure size 360x360 with 1 Axes>"
      ]
     },
     "metadata": {},
     "output_type": "display_data"
    }
   ],
   "source": [
    "# Obviously there are some outliers present, as seen in the graph of BMI and charges\n",
    "\n",
    "# removing the ouliers in bmi feature\n",
    "q = data_no_mv['bmi'].quantile(0.99)\n",
    "data_1 = data_no_mv[data_no_mv['bmi']<q]\n",
    "\n",
    "# let's have a look at the distribution graph again\n",
    "sns.displot(data_1['bmi'])\n",
    "plt.title('Distribution of BMI')\n",
    "plt.show()"
   ]
  },
  {
   "cell_type": "code",
   "execution_count": 16,
   "metadata": {
    "execution": {
     "iopub.execute_input": "2022-08-27T17:20:59.302332Z",
     "iopub.status.busy": "2022-08-27T17:20:59.301699Z",
     "iopub.status.idle": "2022-08-27T17:20:59.704467Z",
     "shell.execute_reply": "2022-08-27T17:20:59.703339Z",
     "shell.execute_reply.started": "2022-08-27T17:20:59.302292Z"
    }
   },
   "outputs": [
    {
     "data": {
      "image/png": "[encoded data removed]",
      "text/plain": [
       "<Figure size 360x360 with 1 Axes>"
      ]
     },
     "metadata": {},
     "output_type": "display_data"
    }
   ],
   "source": [
    "# removing the ouliers in charges feature\n",
    "q = data_1['charges'].quantile(0.99)\n",
    "data_2 = data_1[data_1['charges']<q]\n",
    "\n",
    "# let's have a look at the distribution graph again\n",
    "sns.displot(data_2['charges'])\n",
    "plt.title('Distribution of Charges')\n",
    "plt.show()"
   ]
  },
  {
   "cell_type": "markdown",
   "metadata": {},
   "source": [
    "<a id=\"section-four-two\"></a>\n",
    "## Encoding the categorical features"
   ]
  },
  {
   "cell_type": "code",
   "execution_count": 17,
   "metadata": {
    "execution": {
     "iopub.execute_input": "2022-08-27T17:20:59.709802Z",
     "iopub.status.busy": "2022-08-27T17:20:59.709197Z",
     "iopub.status.idle": "2022-08-27T17:20:59.729014Z",
     "shell.execute_reply": "2022-08-27T17:20:59.728057Z",
     "shell.execute_reply.started": "2022-08-27T17:20:59.709769Z"
    }
   },
   "outputs": [
    {
     "data": {
      "text/html": [
       "<div>\n",
       "<style scoped>\n",
       "    .dataframe tbody tr th:only-of-type {\n",
       "        vertical-align: middle;\n",
       "    }\n",
       "\n",
       "    .dataframe tbody tr th {\n",
       "        vertical-align: top;\n",
       "    }\n",
       "\n",
       "    .dataframe thead th {\n",
       "        text-align: right;\n",
       "    }\n",
       "</style>\n",
       "<table border=\"1\" class=\"dataframe\">\n",
       "  <thead>\n",
       "    <tr style=\"text-align: right;\">\n",
       "      <th></th>\n",
       "      <th>age</th>\n",
       "      <th>sex</th>\n",
       "      <th>bmi</th>\n",
       "      <th>children</th>\n",
       "      <th>smoker</th>\n",
       "      <th>region</th>\n",
       "      <th>charges</th>\n",
       "    </tr>\n",
       "  </thead>\n",
       "  <tbody>\n",
       "    <tr>\n",
       "      <th>0</th>\n",
       "      <td>19</td>\n",
       "      <td>1</td>\n",
       "      <td>27.900</td>\n",
       "      <td>0</td>\n",
       "      <td>1</td>\n",
       "      <td>1</td>\n",
       "      <td>16884.92400</td>\n",
       "    </tr>\n",
       "    <tr>\n",
       "      <th>1</th>\n",
       "      <td>18</td>\n",
       "      <td>0</td>\n",
       "      <td>33.770</td>\n",
       "      <td>1</td>\n",
       "      <td>0</td>\n",
       "      <td>0</td>\n",
       "      <td>1725.55230</td>\n",
       "    </tr>\n",
       "    <tr>\n",
       "      <th>2</th>\n",
       "      <td>28</td>\n",
       "      <td>0</td>\n",
       "      <td>33.000</td>\n",
       "      <td>3</td>\n",
       "      <td>0</td>\n",
       "      <td>0</td>\n",
       "      <td>4449.46200</td>\n",
       "    </tr>\n",
       "    <tr>\n",
       "      <th>3</th>\n",
       "      <td>33</td>\n",
       "      <td>0</td>\n",
       "      <td>22.705</td>\n",
       "      <td>0</td>\n",
       "      <td>0</td>\n",
       "      <td>3</td>\n",
       "      <td>21984.47061</td>\n",
       "    </tr>\n",
       "    <tr>\n",
       "      <th>4</th>\n",
       "      <td>32</td>\n",
       "      <td>0</td>\n",
       "      <td>28.880</td>\n",
       "      <td>0</td>\n",
       "      <td>0</td>\n",
       "      <td>3</td>\n",
       "      <td>3866.85520</td>\n",
       "    </tr>\n",
       "  </tbody>\n",
       "</table>\n",
       "</div>"
      ],
      "text/plain": [
       "   age  sex     bmi  children  smoker  region      charges\n",
       "0   19    1  27.900         0       1       1  16884.92400\n",
       "1   18    0  33.770         1       0       0   1725.55230\n",
       "2   28    0  33.000         3       0       0   4449.46200\n",
       "3   33    0  22.705         0       0       3  21984.47061\n",
       "4   32    0  28.880         0       0       3   3866.85520"
      ]
     },
     "execution_count": 17,
     "metadata": {},
     "output_type": "execute_result"
    }
   ],
   "source": [
    "# Categorical features: Sex, Smoker, and Region.\n",
    "\n",
    "data = data_2.copy()\n",
    "\n",
    "data['sex'] = data['sex'].map({'male':0, 'female':1})\n",
    "\n",
    "data['smoker'] = data['smoker'].map({'yes':1, 'no':0})\n",
    "\n",
    "data['region'] = data['region'].map({'southeast':0, 'southwest':1, 'northeast':2, 'northwest':3})\n",
    "\n",
    "data.head()"
   ]
  },
  {
   "cell_type": "markdown",
   "metadata": {},
   "source": [
    "<a id=\"section-four-three\"></a>\n",
    "## Splitting the Features and Targets"
   ]
  },
  {
   "cell_type": "code",
   "execution_count": 18,
   "metadata": {
    "execution": {
     "iopub.execute_input": "2022-08-27T17:20:59.730430Z",
     "iopub.status.busy": "2022-08-27T17:20:59.730120Z",
     "iopub.status.idle": "2022-08-27T17:20:59.740032Z",
     "shell.execute_reply": "2022-08-27T17:20:59.739118Z",
     "shell.execute_reply.started": "2022-08-27T17:20:59.730403Z"
    }
   },
   "outputs": [],
   "source": [
    "# declare the variables\n",
    "\n",
    "y = data['charges']\n",
    "x = data.drop(columns='charges', axis=1)"
   ]
  },
  {
   "cell_type": "code",
   "execution_count": 19,
   "metadata": {
    "execution": {
     "iopub.execute_input": "2022-08-27T17:20:59.742045Z",
     "iopub.status.busy": "2022-08-27T17:20:59.741123Z",
     "iopub.status.idle": "2022-08-27T17:20:59.750002Z",
     "shell.execute_reply": "2022-08-27T17:20:59.749002Z",
     "shell.execute_reply.started": "2022-08-27T17:20:59.742004Z"
    }
   },
   "outputs": [
    {
     "name": "stdout",
     "output_type": "stream",
     "text": [
      "0       16884.92400\n",
      "1        1725.55230\n",
      "2        4449.46200\n",
      "3       21984.47061\n",
      "4        3866.85520\n",
      "           ...     \n",
      "1333    10600.54830\n",
      "1334     2205.98080\n",
      "1335     1629.83350\n",
      "1336     2007.94500\n",
      "1337    29141.36030\n",
      "Name: charges, Length: 1310, dtype: float64\n"
     ]
    }
   ],
   "source": [
    "# let's have a look at the target variables\n",
    "\n",
    "print(y)"
   ]
  },
  {
   "cell_type": "code",
   "execution_count": 20,
   "metadata": {
    "execution": {
     "iopub.execute_input": "2022-08-27T17:20:59.751980Z",
     "iopub.status.busy": "2022-08-27T17:20:59.751153Z",
     "iopub.status.idle": "2022-08-27T17:20:59.763915Z",
     "shell.execute_reply": "2022-08-27T17:20:59.762996Z",
     "shell.execute_reply.started": "2022-08-27T17:20:59.751949Z"
    }
   },
   "outputs": [
    {
     "name": "stdout",
     "output_type": "stream",
     "text": [
      "      age  sex     bmi  children  smoker  region\n",
      "0      19    1  27.900         0       1       1\n",
      "1      18    0  33.770         1       0       0\n",
      "2      28    0  33.000         3       0       0\n",
      "3      33    0  22.705         0       0       3\n",
      "4      32    0  28.880         0       0       3\n",
      "...   ...  ...     ...       ...     ...     ...\n",
      "1333   50    0  30.970         3       0       3\n",
      "1334   18    1  31.920         0       0       2\n",
      "1335   18    1  36.850         0       0       0\n",
      "1336   21    1  25.800         0       0       1\n",
      "1337   61    1  29.070         0       1       3\n",
      "\n",
      "[1310 rows x 6 columns]\n"
     ]
    }
   ],
   "source": [
    "# let's have a look at the features\n",
    "\n",
    "print(x)"
   ]
  },
  {
   "cell_type": "markdown",
   "metadata": {},
   "source": [
    "<a id=\"section-four-four\"></a>\n",
    "## Splitting the data into training data & testing data"
   ]
  },
  {
   "cell_type": "code",
   "execution_count": 21,
   "metadata": {
    "execution": {
     "iopub.execute_input": "2022-08-27T17:20:59.765829Z",
     "iopub.status.busy": "2022-08-27T17:20:59.765244Z",
     "iopub.status.idle": "2022-08-27T17:20:59.771240Z",
     "shell.execute_reply": "2022-08-27T17:20:59.770460Z",
     "shell.execute_reply.started": "2022-08-27T17:20:59.765785Z"
    }
   },
   "outputs": [],
   "source": [
    "from sklearn.model_selection import train_test_split\n",
    "\n",
    "x_train, x_test, y_train, y_test = train_test_split(x, y, test_size = 0.2, random_state = 2)"
   ]
  },
  {
   "cell_type": "code",
   "execution_count": 22,
   "metadata": {
    "execution": {
     "iopub.execute_input": "2022-08-27T17:20:59.773041Z",
     "iopub.status.busy": "2022-08-27T17:20:59.772223Z",
     "iopub.status.idle": "2022-08-27T17:20:59.782288Z",
     "shell.execute_reply": "2022-08-27T17:20:59.781673Z",
     "shell.execute_reply.started": "2022-08-27T17:20:59.773014Z"
    }
   },
   "outputs": [
    {
     "name": "stdout",
     "output_type": "stream",
     "text": [
      "(1310, 6) (1048, 6) (262, 6)\n"
     ]
    }
   ],
   "source": [
    "# By looking at the shape, we could see the number of observations which are training and testing\n",
    "\n",
    "print(x.shape, x_train.shape, x_test.shape)"
   ]
  },
  {
   "cell_type": "markdown",
   "metadata": {},
   "source": [
    "<a id=\"section-five\"></a>\n",
    "# 5. Model Training"
   ]
  },
  {
   "cell_type": "markdown",
   "metadata": {},
   "source": [
    "<a id=\"section-five-one\"></a>\n",
    "## Linear Regression"
   ]
  },
  {
   "cell_type": "code",
   "execution_count": 23,
   "metadata": {
    "execution": {
     "iopub.execute_input": "2022-08-27T17:20:59.783873Z",
     "iopub.status.busy": "2022-08-27T17:20:59.783215Z",
     "iopub.status.idle": "2022-08-27T17:20:59.794139Z",
     "shell.execute_reply": "2022-08-27T17:20:59.793006Z",
     "shell.execute_reply.started": "2022-08-27T17:20:59.783845Z"
    }
   },
   "outputs": [
    {
     "data": {
      "text/plain": [
       "LinearRegression()"
      ]
     },
     "execution_count": 23,
     "metadata": {},
     "output_type": "execute_result"
    }
   ],
   "source": [
    "# Check the regression\n",
    "\n",
    "reg = LinearRegression()\n",
    "reg.fit(x_train.values, y_train.values)"
   ]
  },
  {
   "cell_type": "markdown",
   "metadata": {},
   "source": [
    "<a id=\"section-five-two\"></a>\n",
    "## Model Evaluation"
   ]
  },
  {
   "cell_type": "code",
   "execution_count": 24,
   "metadata": {
    "execution": {
     "iopub.execute_input": "2022-08-27T17:20:59.796586Z",
     "iopub.status.busy": "2022-08-27T17:20:59.795529Z",
     "iopub.status.idle": "2022-08-27T17:20:59.804406Z",
     "shell.execute_reply": "2022-08-27T17:20:59.803590Z",
     "shell.execute_reply.started": "2022-08-27T17:20:59.796531Z"
    }
   },
   "outputs": [],
   "source": [
    "# prediction on training data\n",
    "\n",
    "train_data_pred = reg.predict(x_train.values)"
   ]
  },
  {
   "cell_type": "code",
   "execution_count": 25,
   "metadata": {
    "execution": {
     "iopub.execute_input": "2022-08-27T17:20:59.806988Z",
     "iopub.status.busy": "2022-08-27T17:20:59.805831Z",
     "iopub.status.idle": "2022-08-27T17:20:59.816150Z",
     "shell.execute_reply": "2022-08-27T17:20:59.815187Z",
     "shell.execute_reply.started": "2022-08-27T17:20:59.806950Z"
    }
   },
   "outputs": [
    {
     "name": "stdout",
     "output_type": "stream",
     "text": [
      "R squared value:  0.7426233236305814\n"
     ]
    }
   ],
   "source": [
    "# R squared value\n",
    "\n",
    "from sklearn import metrics\n",
    "\n",
    "r2_train = metrics.r2_score(y_train, train_data_pred)\n",
    "\n",
    "print('R squared value: ',r2_train)"
   ]
  },
  {
   "cell_type": "code",
   "execution_count": 26,
   "metadata": {
    "execution": {
     "iopub.execute_input": "2022-08-27T17:20:59.818723Z",
     "iopub.status.busy": "2022-08-27T17:20:59.817855Z",
     "iopub.status.idle": "2022-08-27T17:20:59.826186Z",
     "shell.execute_reply": "2022-08-27T17:20:59.824983Z",
     "shell.execute_reply.started": "2022-08-27T17:20:59.818682Z"
    }
   },
   "outputs": [],
   "source": [
    "# prediction on testing data\n",
    "\n",
    "test_data_pred = reg.predict(x_test.values)"
   ]
  },
  {
   "cell_type": "code",
   "execution_count": 27,
   "metadata": {
    "execution": {
     "iopub.execute_input": "2022-08-27T17:20:59.828737Z",
     "iopub.status.busy": "2022-08-27T17:20:59.827681Z",
     "iopub.status.idle": "2022-08-27T17:20:59.836906Z",
     "shell.execute_reply": "2022-08-27T17:20:59.835806Z",
     "shell.execute_reply.started": "2022-08-27T17:20:59.828700Z"
    }
   },
   "outputs": [
    {
     "name": "stdout",
     "output_type": "stream",
     "text": [
      "R squared value:  0.7398444651162962\n"
     ]
    }
   ],
   "source": [
    "# R squared value\n",
    "\n",
    "r2_test = metrics.r2_score(y_test, test_data_pred)\n",
    "\n",
    "print('R squared value: ',r2_test)"
   ]
  },
  {
   "cell_type": "code",
   "execution_count": 28,
   "metadata": {
    "execution": {
     "iopub.execute_input": "2022-08-27T17:20:59.839973Z",
     "iopub.status.busy": "2022-08-27T17:20:59.839040Z",
     "iopub.status.idle": "2022-08-27T17:21:00.364248Z",
     "shell.execute_reply": "2022-08-27T17:21:00.363265Z",
     "shell.execute_reply.started": "2022-08-27T17:20:59.839940Z"
    }
   },
   "outputs": [
    {
     "data": {
      "text/plain": [
       "Text(0.5, 1.0, 'Residuals PDF')"
      ]
     },
     "execution_count": 28,
     "metadata": {},
     "output_type": "execute_result"
    },
    {
     "data": {
      "image/png": "[encoded data removed]",
      "text/plain": [
       "<Figure size 360x360 with 1 Axes>"
      ]
     },
     "metadata": {},
     "output_type": "display_data"
    }
   ],
   "source": [
    "# Residual = Differences between the targets and the predictions\n",
    "# The residuals are the estimate of errors\n",
    "\n",
    "sns.displot(y_train - train_data_pred)\n",
    "plt.title('Residuals PDF', size = 18)"
   ]
  },
  {
   "cell_type": "markdown",
   "metadata": {},
   "source": [
    "<a id=\"section-six\"></a>\n",
    "# 6. Building a Predictive System"
   ]
  },
  {
   "cell_type": "code",
   "execution_count": 29,
   "metadata": {
    "execution": {
     "iopub.execute_input": "2022-08-27T17:21:00.365953Z",
     "iopub.status.busy": "2022-08-27T17:21:00.365662Z",
     "iopub.status.idle": "2022-08-27T17:21:00.369929Z",
     "shell.execute_reply": "2022-08-27T17:21:00.369253Z",
     "shell.execute_reply.started": "2022-08-27T17:21:00.365926Z"
    }
   },
   "outputs": [],
   "source": [
    "# we select the random features in order to machine to predict respective charges \n",
    "# we will also put the values assigned to categorical varibales\n",
    "\n",
    "# features used: age:31, sex:female, bmi:25.74, children:0, smoker:no, region:southeast\n",
    "\n",
    "input_data = (31, 1, 25.74, 0, 0, 0)"
   ]
  },
  {
   "cell_type": "code",
   "execution_count": 30,
   "metadata": {
    "execution": {
     "iopub.execute_input": "2022-08-27T17:21:00.371652Z",
     "iopub.status.busy": "2022-08-27T17:21:00.370862Z",
     "iopub.status.idle": "2022-08-27T17:21:00.379227Z",
     "shell.execute_reply": "2022-08-27T17:21:00.378368Z",
     "shell.execute_reply.started": "2022-08-27T17:21:00.371626Z"
    }
   },
   "outputs": [],
   "source": [
    "# changing inupt_data into numpy array\n",
    "\n",
    "array_data = np.asarray(input_data)"
   ]
  },
  {
   "cell_type": "code",
   "execution_count": 31,
   "metadata": {
    "execution": {
     "iopub.execute_input": "2022-08-27T17:21:00.380683Z",
     "iopub.status.busy": "2022-08-27T17:21:00.380386Z",
     "iopub.status.idle": "2022-08-27T17:21:00.388059Z",
     "shell.execute_reply": "2022-08-27T17:21:00.387253Z",
     "shell.execute_reply.started": "2022-08-27T17:21:00.380655Z"
    }
   },
   "outputs": [],
   "source": [
    "# reshape the array\n",
    "\n",
    "array_data_reshaped = array_data.reshape(1,-1)"
   ]
  },
  {
   "cell_type": "code",
   "execution_count": 32,
   "metadata": {
    "execution": {
     "iopub.execute_input": "2022-08-27T17:21:00.389366Z",
     "iopub.status.busy": "2022-08-27T17:21:00.389081Z",
     "iopub.status.idle": "2022-08-27T17:21:00.400074Z",
     "shell.execute_reply": "2022-08-27T17:21:00.399201Z",
     "shell.execute_reply.started": "2022-08-27T17:21:00.389341Z"
    }
   },
   "outputs": [
    {
     "name": "stdout",
     "output_type": "stream",
     "text": [
      "The insurance charge is $ [3859.84483333]\n"
     ]
    }
   ],
   "source": [
    "prediction = reg.predict(array_data_reshaped)\n",
    "\n",
    "print('The insurance charge is $',prediction)"
   ]
  },
  {
   "cell_type": "markdown",
   "metadata": {},
   "source": [
    "The original price is 3756.8552. Our model's predictions are close to the original price, therefore the model is complete. "
   ]
  },
  {
   "cell_type": "markdown",
   "metadata": {},
   "source": [
    "That's all and thank you! I hope you liked my linear regression model and prediction with ML project. Please do let me know your reviews and advices in the comments :))"
   ]
  }
 ],
 "metadata": {
  "kernelspec": {
   "display_name": "Python 3",
   "language": "python",
   "name": "python3"
  },
  "language_info": {
   "codemirror_mode": {
    "name": "ipython",
    "version": 3
   },
   "file_extension": ".py",
   "mimetype": "text/x-python",
   "name": "python",
   "nbconvert_exporter": "python",
   "pygments_lexer": "ipython3",
   "version": "3.8.8"
  }
 },
 "nbformat": 4,
 "nbformat_minor": 4
}
