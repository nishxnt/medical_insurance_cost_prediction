{
 "cells": [
  {
   "cell_type": "markdown",
   "metadata": {},
   "source": [
    "# Project: Medical Insurance Cost Prediction"
   ]
  },
  {
   "cell_type": "markdown",
   "metadata": {},
   "source": [
    "## Table of Contents\n",
    "\n",
    "1. [Importing Packages](#section-one)   \n",
    "\n",
    "2. [Loading the Raw Data](#section-two)\n",
    "\n",
    "3. [Data Exploration](#section-three)\n",
    "\n",
    "4. [Data Pre-Processing](#section-four)\n",
    "\n",
    "    * [Encoding the Categorical Features](#section-four-two)\n",
    "    * [Splitting the Features and Target](#section-four-three)\n",
    "    * [Splitting the data into Training and Testing data](#section-four-four)\n",
    "\n",
    "\n",
    "5. [Model Training](#section-five)\n",
    "\n",
    "    * [Linear Regression](#section-five-one)\n",
    "    * [Model Evaluation](#section-five-two)\n",
    "\n",
    "\n",
    "6. [Building a Predictive System.](#section-six)"
   ]
  },
  {
   "cell_type": "markdown",
   "metadata": {
    "_cell_guid": "b1076dfc-b9ad-4769-8c92-a6c4dae69d19",
    "_uuid": "8f2839f25d086af736a60e9eeb907d3b93b6e0e5"
   },
   "source": [
    "<a id=\"section-one\"></a>\n",
    "# 1. Importing Packages"
   ]
  },
  {
   "cell_type": "code",
   "execution_count": 1,
   "metadata": {
    "execution": {
     "iopub.execute_input": "2022-08-29T11:55:37.877303Z",
     "iopub.status.busy": "2022-08-29T11:55:37.876906Z",
     "iopub.status.idle": "2022-08-29T11:55:37.883250Z",
     "shell.execute_reply": "2022-08-29T11:55:37.882179Z",
     "shell.execute_reply.started": "2022-08-29T11:55:37.877274Z"
    }
   },
   "outputs": [],
   "source": [
    "# relevant libraries for this project\n",
    "\n",
    "import numpy as np\n",
    "import pandas as pd\n",
    "import matplotlib.pyplot as plt\n",
    "from sklearn.linear_model import LinearRegression\n",
    "import seaborn as sns\n",
    "sns.set()\n",
    "from sklearn.preprocessing import OneHotEncoder"
   ]
  },
  {
   "cell_type": "markdown",
   "metadata": {},
   "source": [
    "<a id=\"section-two\"></a>\n",
    "# 2. Loading the raw data"
   ]
  },
  {
   "cell_type": "markdown",
   "metadata": {},
   "source": [
    "We have taken the data of medical health insurance from Kaggle. The file is named 'insurance.csv' and we will be using module 'pandas' to load it."
   ]
  },
  {
   "cell_type": "code",
   "execution_count": 2,
   "metadata": {
    "execution": {
     "iopub.execute_input": "2022-08-29T11:55:37.941791Z",
     "iopub.status.busy": "2022-08-29T11:55:37.940953Z",
     "iopub.status.idle": "2022-08-29T11:55:37.959743Z",
     "shell.execute_reply": "2022-08-29T11:55:37.958919Z",
     "shell.execute_reply.started": "2022-08-29T11:55:37.941758Z"
    }
   },
   "outputs": [
    {
     "data": {
      "text/html": [
       "<div>\n",
       "<style scoped>\n",
       "    .dataframe tbody tr th:only-of-type {\n",
       "        vertical-align: middle;\n",
       "    }\n",
       "\n",
       "    .dataframe tbody tr th {\n",
       "        vertical-align: top;\n",
       "    }\n",
       "\n",
       "    .dataframe thead th {\n",
       "        text-align: right;\n",
       "    }\n",
       "</style>\n",
       "<table border=\"1\" class=\"dataframe\">\n",
       "  <thead>\n",
       "    <tr style=\"text-align: right;\">\n",
       "      <th></th>\n",
       "      <th>age</th>\n",
       "      <th>sex</th>\n",
       "      <th>bmi</th>\n",
       "      <th>children</th>\n",
       "      <th>smoker</th>\n",
       "      <th>region</th>\n",
       "      <th>charges</th>\n",
       "    </tr>\n",
       "  </thead>\n",
       "  <tbody>\n",
       "    <tr>\n",
       "      <th>0</th>\n",
       "      <td>19</td>\n",
       "      <td>female</td>\n",
       "      <td>27.900</td>\n",
       "      <td>0</td>\n",
       "      <td>yes</td>\n",
       "      <td>southwest</td>\n",
       "      <td>16884.92400</td>\n",
       "    </tr>\n",
       "    <tr>\n",
       "      <th>1</th>\n",
       "      <td>18</td>\n",
       "      <td>male</td>\n",
       "      <td>33.770</td>\n",
       "      <td>1</td>\n",
       "      <td>no</td>\n",
       "      <td>southeast</td>\n",
       "      <td>1725.55230</td>\n",
       "    </tr>\n",
       "    <tr>\n",
       "      <th>2</th>\n",
       "      <td>28</td>\n",
       "      <td>male</td>\n",
       "      <td>33.000</td>\n",
       "      <td>3</td>\n",
       "      <td>no</td>\n",
       "      <td>southeast</td>\n",
       "      <td>4449.46200</td>\n",
       "    </tr>\n",
       "    <tr>\n",
       "      <th>3</th>\n",
       "      <td>33</td>\n",
       "      <td>male</td>\n",
       "      <td>22.705</td>\n",
       "      <td>0</td>\n",
       "      <td>no</td>\n",
       "      <td>northwest</td>\n",
       "      <td>21984.47061</td>\n",
       "    </tr>\n",
       "    <tr>\n",
       "      <th>4</th>\n",
       "      <td>32</td>\n",
       "      <td>male</td>\n",
       "      <td>28.880</td>\n",
       "      <td>0</td>\n",
       "      <td>no</td>\n",
       "      <td>northwest</td>\n",
       "      <td>3866.85520</td>\n",
       "    </tr>\n",
       "  </tbody>\n",
       "</table>\n",
       "</div>"
      ],
      "text/plain": [
       "   age     sex     bmi  children smoker     region      charges\n",
       "0   19  female  27.900         0    yes  southwest  16884.92400\n",
       "1   18    male  33.770         1     no  southeast   1725.55230\n",
       "2   28    male  33.000         3     no  southeast   4449.46200\n",
       "3   33    male  22.705         0     no  northwest  21984.47061\n",
       "4   32    male  28.880         0     no  northwest   3866.85520"
      ]
     },
     "execution_count": 2,
     "metadata": {},
     "output_type": "execute_result"
    }
   ],
   "source": [
    "# Panda dataframe\n",
    "\n",
    "raw_data = pd.read_csv('C:\\\\Users\\\\Nishant Gupta\\\\Desktop\\\\Projects\\\\regression_project_Nishant_Gupta\\\\insurance.csv')\n",
    "\n",
    "# Let's have a quick look at the dataset\n",
    "\n",
    "raw_data.head()"
   ]
  },
  {
   "cell_type": "markdown",
   "metadata": {},
   "source": [
    "Here, we have the first 5 rows of the given dataset to have a look at it and understand it. We are going to predict the 'charges' so it will become the target and rest columns are the features!"
   ]
  },
  {
   "cell_type": "code",
   "execution_count": 3,
   "metadata": {
    "execution": {
     "iopub.execute_input": "2022-08-29T11:55:37.987857Z",
     "iopub.status.busy": "2022-08-29T11:55:37.987178Z",
     "iopub.status.idle": "2022-08-29T11:55:37.993160Z",
     "shell.execute_reply": "2022-08-29T11:55:37.992207Z",
     "shell.execute_reply.started": "2022-08-29T11:55:37.987825Z"
    }
   },
   "outputs": [
    {
     "data": {
      "text/plain": [
       "(1338, 7)"
      ]
     },
     "execution_count": 3,
     "metadata": {},
     "output_type": "execute_result"
    }
   ],
   "source": [
    "# let's check the number of rows and columns in the dataset\n",
    "\n",
    "raw_data.shape"
   ]
  },
  {
   "cell_type": "markdown",
   "metadata": {},
   "source": [
    "We have 1338 rows and 7 columns in the dataset."
   ]
  },
  {
   "cell_type": "code",
   "execution_count": 4,
   "metadata": {
    "execution": {
     "iopub.execute_input": "2022-08-29T11:55:38.013137Z",
     "iopub.status.busy": "2022-08-29T11:55:38.012303Z",
     "iopub.status.idle": "2022-08-29T11:55:38.023956Z",
     "shell.execute_reply": "2022-08-29T11:55:38.022947Z",
     "shell.execute_reply.started": "2022-08-29T11:55:38.013108Z"
    }
   },
   "outputs": [
    {
     "name": "stdout",
     "output_type": "stream",
     "text": [
      "<class 'pandas.core.frame.DataFrame'>\n",
      "RangeIndex: 1338 entries, 0 to 1337\n",
      "Data columns (total 7 columns):\n",
      " #   Column    Non-Null Count  Dtype  \n",
      "---  ------    --------------  -----  \n",
      " 0   age       1338 non-null   int64  \n",
      " 1   sex       1338 non-null   object \n",
      " 2   bmi       1338 non-null   float64\n",
      " 3   children  1338 non-null   int64  \n",
      " 4   smoker    1338 non-null   object \n",
      " 5   region    1338 non-null   object \n",
      " 6   charges   1338 non-null   float64\n",
      "dtypes: float64(2), int64(2), object(3)\n",
      "memory usage: 73.3+ KB\n"
     ]
    }
   ],
   "source": [
    "# Some more information about the dataset\n",
    "\n",
    "raw_data.info()"
   ]
  },
  {
   "cell_type": "code",
   "execution_count": 5,
   "metadata": {
    "execution": {
     "iopub.execute_input": "2022-08-29T11:55:38.043644Z",
     "iopub.status.busy": "2022-08-29T11:55:38.042914Z",
     "iopub.status.idle": "2022-08-29T11:55:38.072156Z",
     "shell.execute_reply": "2022-08-29T11:55:38.071158Z",
     "shell.execute_reply.started": "2022-08-29T11:55:38.043602Z"
    }
   },
   "outputs": [
    {
     "data": {
      "text/html": [
       "<div>\n",
       "<style scoped>\n",
       "    .dataframe tbody tr th:only-of-type {\n",
       "        vertical-align: middle;\n",
       "    }\n",
       "\n",
       "    .dataframe tbody tr th {\n",
       "        vertical-align: top;\n",
       "    }\n",
       "\n",
       "    .dataframe thead th {\n",
       "        text-align: right;\n",
       "    }\n",
       "</style>\n",
       "<table border=\"1\" class=\"dataframe\">\n",
       "  <thead>\n",
       "    <tr style=\"text-align: right;\">\n",
       "      <th></th>\n",
       "      <th>age</th>\n",
       "      <th>sex</th>\n",
       "      <th>bmi</th>\n",
       "      <th>children</th>\n",
       "      <th>smoker</th>\n",
       "      <th>region</th>\n",
       "      <th>charges</th>\n",
       "    </tr>\n",
       "  </thead>\n",
       "  <tbody>\n",
       "    <tr>\n",
       "      <th>count</th>\n",
       "      <td>1338.000000</td>\n",
       "      <td>1338</td>\n",
       "      <td>1338.000000</td>\n",
       "      <td>1338.000000</td>\n",
       "      <td>1338</td>\n",
       "      <td>1338</td>\n",
       "      <td>1338.000000</td>\n",
       "    </tr>\n",
       "    <tr>\n",
       "      <th>unique</th>\n",
       "      <td>NaN</td>\n",
       "      <td>2</td>\n",
       "      <td>NaN</td>\n",
       "      <td>NaN</td>\n",
       "      <td>2</td>\n",
       "      <td>4</td>\n",
       "      <td>NaN</td>\n",
       "    </tr>\n",
       "    <tr>\n",
       "      <th>top</th>\n",
       "      <td>NaN</td>\n",
       "      <td>male</td>\n",
       "      <td>NaN</td>\n",
       "      <td>NaN</td>\n",
       "      <td>no</td>\n",
       "      <td>southeast</td>\n",
       "      <td>NaN</td>\n",
       "    </tr>\n",
       "    <tr>\n",
       "      <th>freq</th>\n",
       "      <td>NaN</td>\n",
       "      <td>676</td>\n",
       "      <td>NaN</td>\n",
       "      <td>NaN</td>\n",
       "      <td>1064</td>\n",
       "      <td>364</td>\n",
       "      <td>NaN</td>\n",
       "    </tr>\n",
       "    <tr>\n",
       "      <th>mean</th>\n",
       "      <td>39.207025</td>\n",
       "      <td>NaN</td>\n",
       "      <td>30.663397</td>\n",
       "      <td>1.094918</td>\n",
       "      <td>NaN</td>\n",
       "      <td>NaN</td>\n",
       "      <td>13270.422265</td>\n",
       "    </tr>\n",
       "    <tr>\n",
       "      <th>std</th>\n",
       "      <td>14.049960</td>\n",
       "      <td>NaN</td>\n",
       "      <td>6.098187</td>\n",
       "      <td>1.205493</td>\n",
       "      <td>NaN</td>\n",
       "      <td>NaN</td>\n",
       "      <td>12110.011237</td>\n",
       "    </tr>\n",
       "    <tr>\n",
       "      <th>min</th>\n",
       "      <td>18.000000</td>\n",
       "      <td>NaN</td>\n",
       "      <td>15.960000</td>\n",
       "      <td>0.000000</td>\n",
       "      <td>NaN</td>\n",
       "      <td>NaN</td>\n",
       "      <td>1121.873900</td>\n",
       "    </tr>\n",
       "    <tr>\n",
       "      <th>25%</th>\n",
       "      <td>27.000000</td>\n",
       "      <td>NaN</td>\n",
       "      <td>26.296250</td>\n",
       "      <td>0.000000</td>\n",
       "      <td>NaN</td>\n",
       "      <td>NaN</td>\n",
       "      <td>4740.287150</td>\n",
       "    </tr>\n",
       "    <tr>\n",
       "      <th>50%</th>\n",
       "      <td>39.000000</td>\n",
       "      <td>NaN</td>\n",
       "      <td>30.400000</td>\n",
       "      <td>1.000000</td>\n",
       "      <td>NaN</td>\n",
       "      <td>NaN</td>\n",
       "      <td>9382.033000</td>\n",
       "    </tr>\n",
       "    <tr>\n",
       "      <th>75%</th>\n",
       "      <td>51.000000</td>\n",
       "      <td>NaN</td>\n",
       "      <td>34.693750</td>\n",
       "      <td>2.000000</td>\n",
       "      <td>NaN</td>\n",
       "      <td>NaN</td>\n",
       "      <td>16639.912515</td>\n",
       "    </tr>\n",
       "    <tr>\n",
       "      <th>max</th>\n",
       "      <td>64.000000</td>\n",
       "      <td>NaN</td>\n",
       "      <td>53.130000</td>\n",
       "      <td>5.000000</td>\n",
       "      <td>NaN</td>\n",
       "      <td>NaN</td>\n",
       "      <td>63770.428010</td>\n",
       "    </tr>\n",
       "  </tbody>\n",
       "</table>\n",
       "</div>"
      ],
      "text/plain": [
       "                age   sex          bmi     children smoker     region  \\\n",
       "count   1338.000000  1338  1338.000000  1338.000000   1338       1338   \n",
       "unique          NaN     2          NaN          NaN      2          4   \n",
       "top             NaN  male          NaN          NaN     no  southeast   \n",
       "freq            NaN   676          NaN          NaN   1064        364   \n",
       "mean      39.207025   NaN    30.663397     1.094918    NaN        NaN   \n",
       "std       14.049960   NaN     6.098187     1.205493    NaN        NaN   \n",
       "min       18.000000   NaN    15.960000     0.000000    NaN        NaN   \n",
       "25%       27.000000   NaN    26.296250     0.000000    NaN        NaN   \n",
       "50%       39.000000   NaN    30.400000     1.000000    NaN        NaN   \n",
       "75%       51.000000   NaN    34.693750     2.000000    NaN        NaN   \n",
       "max       64.000000   NaN    53.130000     5.000000    NaN        NaN   \n",
       "\n",
       "             charges  \n",
       "count    1338.000000  \n",
       "unique           NaN  \n",
       "top              NaN  \n",
       "freq             NaN  \n",
       "mean    13270.422265  \n",
       "std     12110.011237  \n",
       "min      1121.873900  \n",
       "25%      4740.287150  \n",
       "50%      9382.033000  \n",
       "75%     16639.912515  \n",
       "max     63770.428010  "
      ]
     },
     "execution_count": 5,
     "metadata": {},
     "output_type": "execute_result"
    }
   ],
   "source": [
    "# let's check the descriptive statistics of the variables\n",
    "\n",
    "raw_data.describe(include='all')"
   ]
  },
  {
   "cell_type": "markdown",
   "metadata": {},
   "source": [
    "Here, we understand that categorical variables don't have some types of numerical descriptives and numerical variables don't have some types of categorical descriptives. Therefore, we have 3 categorical variables (features) in this dataset: Sex, Smoker, and Region."
   ]
  },
  {
   "cell_type": "code",
   "execution_count": 6,
   "metadata": {
    "execution": {
     "iopub.execute_input": "2022-08-29T11:55:38.073771Z",
     "iopub.status.busy": "2022-08-29T11:55:38.073534Z",
     "iopub.status.idle": "2022-08-29T11:55:38.082348Z",
     "shell.execute_reply": "2022-08-29T11:55:38.081395Z",
     "shell.execute_reply.started": "2022-08-29T11:55:38.073749Z"
    }
   },
   "outputs": [
    {
     "data": {
      "text/plain": [
       "age         0\n",
       "sex         0\n",
       "bmi         0\n",
       "children    0\n",
       "smoker      0\n",
       "region      0\n",
       "charges     0\n",
       "dtype: int64"
      ]
     },
     "execution_count": 6,
     "metadata": {},
     "output_type": "execute_result"
    }
   ],
   "source": [
    "# Checking the total number of missing values\n",
    "\n",
    "raw_data.isnull().sum()"
   ]
  },
  {
   "cell_type": "markdown",
   "metadata": {},
   "source": [
    "Great! We do not have any missing values and won't have to drop any variables."
   ]
  },
  {
   "cell_type": "code",
   "execution_count": 7,
   "metadata": {
    "execution": {
     "iopub.execute_input": "2022-08-29T11:55:38.092733Z",
     "iopub.status.busy": "2022-08-29T11:55:38.092256Z",
     "iopub.status.idle": "2022-08-29T11:55:38.098206Z",
     "shell.execute_reply": "2022-08-29T11:55:38.097170Z",
     "shell.execute_reply.started": "2022-08-29T11:55:38.092703Z"
    }
   },
   "outputs": [],
   "source": [
    "# We have checked the raw data and there aren't any missing values!\n",
    "\n",
    "data_no_mv = raw_data.copy()"
   ]
  },
  {
   "cell_type": "markdown",
   "metadata": {},
   "source": [
    "<a id=\"section-three\"></a>\n",
    "# 3. Data Exploration"
   ]
  },
  {
   "cell_type": "markdown",
   "metadata": {},
   "source": [
    "Displaying the probability distribution function (PDF) of a variable is a fantastic data exploration step. We will see how that variable is spread in the PDF. This makes it very simple to identify outliers and other irregularities. Frequently, the PDF also serves as the foundation for our decision over whether to alter a feature."
   ]
  },
  {
   "cell_type": "code",
   "execution_count": 8,
   "metadata": {
    "execution": {
     "iopub.execute_input": "2022-08-29T11:55:38.118117Z",
     "iopub.status.busy": "2022-08-29T11:55:38.117764Z",
     "iopub.status.idle": "2022-08-29T11:55:38.396350Z",
     "shell.execute_reply": "2022-08-29T11:55:38.395381Z",
     "shell.execute_reply.started": "2022-08-29T11:55:38.118091Z"
    }
   },
   "outputs": [
    {
     "data": {
      "image/png": "[encoded data removed]",
      "text/plain": [
       "<Figure size 360x360 with 1 Axes>"
      ]
     },
     "metadata": {},
     "output_type": "display_data"
    }
   ],
   "source": [
    "# distribution of age variable\n",
    "\n",
    "sns.displot(data_no_mv['age'])\n",
    "plt.title('Distribution of Age')\n",
    "plt.show()"
   ]
  },
  {
   "cell_type": "markdown",
   "metadata": {},
   "source": [
    "As the figure represents that the highest density of people is of age 20-23. From age 24 to 70, the distribution is almost equal."
   ]
  },
  {
   "cell_type": "code",
   "execution_count": 9,
   "metadata": {
    "execution": {
     "iopub.execute_input": "2022-08-29T11:55:38.398099Z",
     "iopub.status.busy": "2022-08-29T11:55:38.397861Z",
     "iopub.status.idle": "2022-08-29T11:55:38.536763Z",
     "shell.execute_reply": "2022-08-29T11:55:38.536066Z",
     "shell.execute_reply.started": "2022-08-29T11:55:38.398075Z"
    }
   },
   "outputs": [
    {
     "data": {
      "text/plain": [
       "<function matplotlib.pyplot.show(close=None, block=None)>"
      ]
     },
     "execution_count": 9,
     "metadata": {},
     "output_type": "execute_result"
    },
    {
     "data": {
      "image/png": "[encoded data removed]",
      "text/plain": [
       "<Figure size 432x288 with 1 Axes>"
      ]
     },
     "metadata": {},
     "output_type": "display_data"
    }
   ],
   "source": [
    "# plot of sex variables\n",
    "\n",
    "sns.countplot(x = 'sex', data = data_no_mv)\n",
    "plt.title('Distribution of sex')\n",
    "plt.show"
   ]
  },
  {
   "cell_type": "markdown",
   "metadata": {},
   "source": [
    "Firstly, we are using 'sns.countplot' because 'sex' is a categorical variables and to represent in a better way.\n",
    "The figure shows that the number of male and female is almost equal."
   ]
  },
  {
   "cell_type": "code",
   "execution_count": 10,
   "metadata": {
    "execution": {
     "iopub.execute_input": "2022-08-29T11:55:38.538464Z",
     "iopub.status.busy": "2022-08-29T11:55:38.538044Z",
     "iopub.status.idle": "2022-08-29T11:55:38.843761Z",
     "shell.execute_reply": "2022-08-29T11:55:38.842838Z",
     "shell.execute_reply.started": "2022-08-29T11:55:38.538437Z"
    }
   },
   "outputs": [
    {
     "data": {
      "image/png": "[encoded data removed]",
      "text/plain": [
       "<Figure size 360x360 with 1 Axes>"
      ]
     },
     "metadata": {},
     "output_type": "display_data"
    }
   ],
   "source": [
    "# distribution of bmi variable\n",
    "\n",
    "sns.displot(data_no_mv['bmi'])\n",
    "plt.title('Distribution of BMI')\n",
    "plt.show()"
   ]
  },
  {
   "cell_type": "markdown",
   "metadata": {},
   "source": [
    "This kind of distribution is normal distribution. The figure shows that we have an gradual increase from 15 to reach the peak values of 30. Then there is a gradual decrease. We may also notice very few outliers and we will take care of them later.\n",
    "\n",
    "According to the research,\n",
    "Normal BMI range is 18.5 to 24.9. A person exceeding the limit is overweight and the person below this limit is underweight. We could see that there are more number of people in this dataset that are overweight!"
   ]
  },
  {
   "cell_type": "code",
   "execution_count": 11,
   "metadata": {
    "execution": {
     "iopub.execute_input": "2022-08-29T11:55:38.846768Z",
     "iopub.status.busy": "2022-08-29T11:55:38.845992Z",
     "iopub.status.idle": "2022-08-29T11:55:38.995983Z",
     "shell.execute_reply": "2022-08-29T11:55:38.995237Z",
     "shell.execute_reply.started": "2022-08-29T11:55:38.846737Z"
    }
   },
   "outputs": [
    {
     "data": {
      "image/png": "[encoded data removed]",
      "text/plain": [
       "<Figure size 432x288 with 1 Axes>"
      ]
     },
     "metadata": {},
     "output_type": "display_data"
    }
   ],
   "source": [
    "# plot of children variable\n",
    "\n",
    "sns.countplot(x = 'children', data = data_no_mv)\n",
    "plt.title('Children')\n",
    "plt.show()"
   ]
  },
  {
   "cell_type": "markdown",
   "metadata": {},
   "source": [
    "According to the figure, there are more number of people with no children. Then there are people having 1-3 children and there are very less people having 4-5 children."
   ]
  },
  {
   "cell_type": "code",
   "execution_count": 12,
   "metadata": {
    "execution": {
     "iopub.execute_input": "2022-08-29T11:55:38.997877Z",
     "iopub.status.busy": "2022-08-29T11:55:38.997036Z",
     "iopub.status.idle": "2022-08-29T11:55:39.107873Z",
     "shell.execute_reply": "2022-08-29T11:55:39.107138Z",
     "shell.execute_reply.started": "2022-08-29T11:55:38.997844Z"
    }
   },
   "outputs": [
    {
     "data": {
      "image/png": "[encoded data removed]",
      "text/plain": [
       "<Figure size 432x288 with 1 Axes>"
      ]
     },
     "metadata": {},
     "output_type": "display_data"
    }
   ],
   "source": [
    "# plot of smoker variable\n",
    "\n",
    "sns.countplot(x = 'smoker', data = data_no_mv)\n",
    "plt.title('Smoker')\n",
    "plt.show()"
   ]
  },
  {
   "cell_type": "markdown",
   "metadata": {},
   "source": [
    "In this dataset, there are more non-smokers than smokers."
   ]
  },
  {
   "cell_type": "code",
   "execution_count": 13,
   "metadata": {
    "execution": {
     "iopub.execute_input": "2022-08-29T11:55:39.109697Z",
     "iopub.status.busy": "2022-08-29T11:55:39.108889Z",
     "iopub.status.idle": "2022-08-29T11:55:39.250340Z",
     "shell.execute_reply": "2022-08-29T11:55:39.249631Z",
     "shell.execute_reply.started": "2022-08-29T11:55:39.109668Z"
    }
   },
   "outputs": [
    {
     "data": {
      "image/png": "[encoded data removed]",
      "text/plain": [
       "<Figure size 432x288 with 1 Axes>"
      ]
     },
     "metadata": {},
     "output_type": "display_data"
    }
   ],
   "source": [
    "# plot of region variable\n",
    "\n",
    "sns.countplot(x = 'region', data = data_no_mv)\n",
    "plt.title('Region')\n",
    "plt.show()"
   ]
  },
  {
   "cell_type": "markdown",
   "metadata": {},
   "source": [
    "We have four regions: Southwest, Southeast, Northwest, and Northeast. People are equally distributed in all the regions with southeast having slightly more number of people than other regions."
   ]
  },
  {
   "cell_type": "code",
   "execution_count": 14,
   "metadata": {
    "execution": {
     "iopub.execute_input": "2022-08-29T11:55:39.252310Z",
     "iopub.status.busy": "2022-08-29T11:55:39.251352Z",
     "iopub.status.idle": "2022-08-29T11:55:39.566415Z",
     "shell.execute_reply": "2022-08-29T11:55:39.565534Z",
     "shell.execute_reply.started": "2022-08-29T11:55:39.252279Z"
    }
   },
   "outputs": [
    {
     "data": {
      "image/png": "[encoded data removed]",
      "text/plain": [
       "<Figure size 360x360 with 1 Axes>"
      ]
     },
     "metadata": {},
     "output_type": "display_data"
    }
   ],
   "source": [
    "# distribution of charges variable\n",
    "\n",
    "sns.displot(data_no_mv['charges'])\n",
    "plt.title('Distribution of Charges')\n",
    "plt.show()"
   ]
  },
  {
   "cell_type": "markdown",
   "metadata": {},
   "source": [
    "Mostly, the charges are around 1000-10,000 dollars."
   ]
  },
  {
   "cell_type": "markdown",
   "metadata": {},
   "source": [
    "<a id=\"section-four\"></a>\n",
    "# 4. Data Pre-Processing"
   ]
  },
  {
   "cell_type": "markdown",
   "metadata": {},
   "source": [
    "<a id=\"section-four-two\"></a>\n",
    "## Encoding the categorical features"
   ]
  },
  {
   "cell_type": "code",
   "execution_count": 15,
   "metadata": {
    "execution": {
     "iopub.execute_input": "2022-08-29T11:55:39.568468Z",
     "iopub.status.busy": "2022-08-29T11:55:39.567905Z",
     "iopub.status.idle": "2022-08-29T11:55:39.581131Z",
     "shell.execute_reply": "2022-08-29T11:55:39.580490Z",
     "shell.execute_reply.started": "2022-08-29T11:55:39.568441Z"
    }
   },
   "outputs": [
    {
     "data": {
      "text/html": [
       "<div>\n",
       "<style scoped>\n",
       "    .dataframe tbody tr th:only-of-type {\n",
       "        vertical-align: middle;\n",
       "    }\n",
       "\n",
       "    .dataframe tbody tr th {\n",
       "        vertical-align: top;\n",
       "    }\n",
       "\n",
       "    .dataframe thead th {\n",
       "        text-align: right;\n",
       "    }\n",
       "</style>\n",
       "<table border=\"1\" class=\"dataframe\">\n",
       "  <thead>\n",
       "    <tr style=\"text-align: right;\">\n",
       "      <th></th>\n",
       "      <th>age</th>\n",
       "      <th>sex</th>\n",
       "      <th>bmi</th>\n",
       "      <th>children</th>\n",
       "      <th>smoker</th>\n",
       "      <th>region</th>\n",
       "      <th>charges</th>\n",
       "    </tr>\n",
       "  </thead>\n",
       "  <tbody>\n",
       "    <tr>\n",
       "      <th>0</th>\n",
       "      <td>19</td>\n",
       "      <td>female</td>\n",
       "      <td>27.900</td>\n",
       "      <td>0</td>\n",
       "      <td>1</td>\n",
       "      <td>southwest</td>\n",
       "      <td>16884.92400</td>\n",
       "    </tr>\n",
       "    <tr>\n",
       "      <th>1</th>\n",
       "      <td>18</td>\n",
       "      <td>male</td>\n",
       "      <td>33.770</td>\n",
       "      <td>1</td>\n",
       "      <td>0</td>\n",
       "      <td>southeast</td>\n",
       "      <td>1725.55230</td>\n",
       "    </tr>\n",
       "    <tr>\n",
       "      <th>2</th>\n",
       "      <td>28</td>\n",
       "      <td>male</td>\n",
       "      <td>33.000</td>\n",
       "      <td>3</td>\n",
       "      <td>0</td>\n",
       "      <td>southeast</td>\n",
       "      <td>4449.46200</td>\n",
       "    </tr>\n",
       "    <tr>\n",
       "      <th>3</th>\n",
       "      <td>33</td>\n",
       "      <td>male</td>\n",
       "      <td>22.705</td>\n",
       "      <td>0</td>\n",
       "      <td>0</td>\n",
       "      <td>northwest</td>\n",
       "      <td>21984.47061</td>\n",
       "    </tr>\n",
       "    <tr>\n",
       "      <th>4</th>\n",
       "      <td>32</td>\n",
       "      <td>male</td>\n",
       "      <td>28.880</td>\n",
       "      <td>0</td>\n",
       "      <td>0</td>\n",
       "      <td>northwest</td>\n",
       "      <td>3866.85520</td>\n",
       "    </tr>\n",
       "  </tbody>\n",
       "</table>\n",
       "</div>"
      ],
      "text/plain": [
       "   age     sex     bmi  children  smoker     region      charges\n",
       "0   19  female  27.900         0       1  southwest  16884.92400\n",
       "1   18    male  33.770         1       0  southeast   1725.55230\n",
       "2   28    male  33.000         3       0  southeast   4449.46200\n",
       "3   33    male  22.705         0       0  northwest  21984.47061\n",
       "4   32    male  28.880         0       0  northwest   3866.85520"
      ]
     },
     "execution_count": 15,
     "metadata": {},
     "output_type": "execute_result"
    }
   ],
   "source": [
    "# Categorical features: Sex, Smoker, and Region.\n",
    "\n",
    "data = data_no_mv.copy()\n",
    "\n",
    "# Assigning values for 'smoker' feature\n",
    "\n",
    "data['smoker'] = data['smoker'].map({'yes':1, 'no':0})\n",
    "\n",
    "data.head()"
   ]
  },
  {
   "cell_type": "code",
   "execution_count": 16,
   "metadata": {
    "execution": {
     "iopub.execute_input": "2022-08-29T11:55:39.582598Z",
     "iopub.status.busy": "2022-08-29T11:55:39.581995Z",
     "iopub.status.idle": "2022-08-29T11:55:39.591940Z",
     "shell.execute_reply": "2022-08-29T11:55:39.591151Z",
     "shell.execute_reply.started": "2022-08-29T11:55:39.582574Z"
    }
   },
   "outputs": [
    {
     "data": {
      "text/html": [
       "<div>\n",
       "<style scoped>\n",
       "    .dataframe tbody tr th:only-of-type {\n",
       "        vertical-align: middle;\n",
       "    }\n",
       "\n",
       "    .dataframe tbody tr th {\n",
       "        vertical-align: top;\n",
       "    }\n",
       "\n",
       "    .dataframe thead th {\n",
       "        text-align: right;\n",
       "    }\n",
       "</style>\n",
       "<table border=\"1\" class=\"dataframe\">\n",
       "  <thead>\n",
       "    <tr style=\"text-align: right;\">\n",
       "      <th></th>\n",
       "      <th>female</th>\n",
       "      <th>male</th>\n",
       "    </tr>\n",
       "  </thead>\n",
       "  <tbody>\n",
       "    <tr>\n",
       "      <th>0</th>\n",
       "      <td>1</td>\n",
       "      <td>0</td>\n",
       "    </tr>\n",
       "    <tr>\n",
       "      <th>1</th>\n",
       "      <td>0</td>\n",
       "      <td>1</td>\n",
       "    </tr>\n",
       "    <tr>\n",
       "      <th>2</th>\n",
       "      <td>0</td>\n",
       "      <td>1</td>\n",
       "    </tr>\n",
       "    <tr>\n",
       "      <th>3</th>\n",
       "      <td>0</td>\n",
       "      <td>1</td>\n",
       "    </tr>\n",
       "    <tr>\n",
       "      <th>4</th>\n",
       "      <td>0</td>\n",
       "      <td>1</td>\n",
       "    </tr>\n",
       "    <tr>\n",
       "      <th>...</th>\n",
       "      <td>...</td>\n",
       "      <td>...</td>\n",
       "    </tr>\n",
       "    <tr>\n",
       "      <th>1333</th>\n",
       "      <td>0</td>\n",
       "      <td>1</td>\n",
       "    </tr>\n",
       "    <tr>\n",
       "      <th>1334</th>\n",
       "      <td>1</td>\n",
       "      <td>0</td>\n",
       "    </tr>\n",
       "    <tr>\n",
       "      <th>1335</th>\n",
       "      <td>1</td>\n",
       "      <td>0</td>\n",
       "    </tr>\n",
       "    <tr>\n",
       "      <th>1336</th>\n",
       "      <td>1</td>\n",
       "      <td>0</td>\n",
       "    </tr>\n",
       "    <tr>\n",
       "      <th>1337</th>\n",
       "      <td>1</td>\n",
       "      <td>0</td>\n",
       "    </tr>\n",
       "  </tbody>\n",
       "</table>\n",
       "<p>1338 rows × 2 columns</p>\n",
       "</div>"
      ],
      "text/plain": [
       "      female  male\n",
       "0          1     0\n",
       "1          0     1\n",
       "2          0     1\n",
       "3          0     1\n",
       "4          0     1\n",
       "...      ...   ...\n",
       "1333       0     1\n",
       "1334       1     0\n",
       "1335       1     0\n",
       "1336       1     0\n",
       "1337       1     0\n",
       "\n",
       "[1338 rows x 2 columns]"
      ]
     },
     "execution_count": 16,
     "metadata": {},
     "output_type": "execute_result"
    }
   ],
   "source": [
    "# As we know that 'sex' and 'region' are nominal categorical variables\n",
    "# We will create dummy variable\n",
    "\n",
    "dummies = pd.get_dummies(data['sex'])\n",
    "\n",
    "# Let's have a look\n",
    "\n",
    "dummies"
   ]
  },
  {
   "cell_type": "code",
   "execution_count": 17,
   "metadata": {
    "execution": {
     "iopub.execute_input": "2022-08-29T11:55:39.597109Z",
     "iopub.status.busy": "2022-08-29T11:55:39.596549Z",
     "iopub.status.idle": "2022-08-29T11:55:39.604690Z",
     "shell.execute_reply": "2022-08-29T11:55:39.603773Z",
     "shell.execute_reply.started": "2022-08-29T11:55:39.597076Z"
    }
   },
   "outputs": [],
   "source": [
    "# One-Hot Encoder\n",
    "# We will use this method to feed this feature to the machine\n",
    "\n",
    "ohe = OneHotEncoder()\n",
    "\n",
    "feature_array = ohe.fit_transform(data[['region']]).toarray()"
   ]
  },
  {
   "cell_type": "code",
   "execution_count": 18,
   "metadata": {
    "execution": {
     "iopub.execute_input": "2022-08-29T12:02:39.538411Z",
     "iopub.status.busy": "2022-08-29T12:02:39.538008Z",
     "iopub.status.idle": "2022-08-29T12:02:39.543577Z",
     "shell.execute_reply": "2022-08-29T12:02:39.542744Z",
     "shell.execute_reply.started": "2022-08-29T12:02:39.538334Z"
    }
   },
   "outputs": [
    {
     "name": "stdout",
     "output_type": "stream",
     "text": [
      "[array(['northeast', 'northwest', 'southeast', 'southwest'], dtype=object)]\n"
     ]
    }
   ],
   "source": [
    "# Let's see the following categories in column region\n",
    "\n",
    "feature_labels = ohe.categories_\n",
    "\n",
    "print(feature_labels)"
   ]
  },
  {
   "cell_type": "code",
   "execution_count": 19,
   "metadata": {
    "execution": {
     "iopub.execute_input": "2022-08-29T11:55:39.616378Z",
     "iopub.status.busy": "2022-08-29T11:55:39.615668Z",
     "iopub.status.idle": "2022-08-29T11:55:39.625235Z",
     "shell.execute_reply": "2022-08-29T11:55:39.624170Z",
     "shell.execute_reply.started": "2022-08-29T11:55:39.616344Z"
    }
   },
   "outputs": [
    {
     "name": "stdout",
     "output_type": "stream",
     "text": [
      "['northeast' 'northwest' 'southeast' 'southwest']\n"
     ]
    }
   ],
   "source": [
    "# Creating one array\n",
    "\n",
    "feature_labels = np.array(feature_labels).ravel()\n",
    "\n",
    "print(feature_labels)"
   ]
  },
  {
   "cell_type": "code",
   "execution_count": 20,
   "metadata": {
    "execution": {
     "iopub.execute_input": "2022-08-29T11:55:39.626992Z",
     "iopub.status.busy": "2022-08-29T11:55:39.626568Z",
     "iopub.status.idle": "2022-08-29T11:55:39.642245Z",
     "shell.execute_reply": "2022-08-29T11:55:39.641495Z",
     "shell.execute_reply.started": "2022-08-29T11:55:39.626948Z"
    }
   },
   "outputs": [
    {
     "data": {
      "text/html": [
       "<div>\n",
       "<style scoped>\n",
       "    .dataframe tbody tr th:only-of-type {\n",
       "        vertical-align: middle;\n",
       "    }\n",
       "\n",
       "    .dataframe tbody tr th {\n",
       "        vertical-align: top;\n",
       "    }\n",
       "\n",
       "    .dataframe thead th {\n",
       "        text-align: right;\n",
       "    }\n",
       "</style>\n",
       "<table border=\"1\" class=\"dataframe\">\n",
       "  <thead>\n",
       "    <tr style=\"text-align: right;\">\n",
       "      <th></th>\n",
       "      <th>northeast</th>\n",
       "      <th>northwest</th>\n",
       "      <th>southeast</th>\n",
       "      <th>southwest</th>\n",
       "    </tr>\n",
       "  </thead>\n",
       "  <tbody>\n",
       "    <tr>\n",
       "      <th>0</th>\n",
       "      <td>0.0</td>\n",
       "      <td>0.0</td>\n",
       "      <td>0.0</td>\n",
       "      <td>1.0</td>\n",
       "    </tr>\n",
       "    <tr>\n",
       "      <th>1</th>\n",
       "      <td>0.0</td>\n",
       "      <td>0.0</td>\n",
       "      <td>1.0</td>\n",
       "      <td>0.0</td>\n",
       "    </tr>\n",
       "    <tr>\n",
       "      <th>2</th>\n",
       "      <td>0.0</td>\n",
       "      <td>0.0</td>\n",
       "      <td>1.0</td>\n",
       "      <td>0.0</td>\n",
       "    </tr>\n",
       "    <tr>\n",
       "      <th>3</th>\n",
       "      <td>0.0</td>\n",
       "      <td>1.0</td>\n",
       "      <td>0.0</td>\n",
       "      <td>0.0</td>\n",
       "    </tr>\n",
       "    <tr>\n",
       "      <th>4</th>\n",
       "      <td>0.0</td>\n",
       "      <td>1.0</td>\n",
       "      <td>0.0</td>\n",
       "      <td>0.0</td>\n",
       "    </tr>\n",
       "  </tbody>\n",
       "</table>\n",
       "</div>"
      ],
      "text/plain": [
       "   northeast  northwest  southeast  southwest\n",
       "0        0.0        0.0        0.0        1.0\n",
       "1        0.0        0.0        1.0        0.0\n",
       "2        0.0        0.0        1.0        0.0\n",
       "3        0.0        1.0        0.0        0.0\n",
       "4        0.0        1.0        0.0        0.0"
      ]
     },
     "execution_count": 20,
     "metadata": {},
     "output_type": "execute_result"
    }
   ],
   "source": [
    "# We are now making a data frame of these labels\n",
    "\n",
    "features = pd.DataFrame(feature_array, columns = feature_labels)\n",
    "\n",
    "features.head()"
   ]
  },
  {
   "cell_type": "code",
   "execution_count": 21,
   "metadata": {
    "execution": {
     "iopub.execute_input": "2022-08-29T11:55:39.644143Z",
     "iopub.status.busy": "2022-08-29T11:55:39.643339Z",
     "iopub.status.idle": "2022-08-29T11:55:40.126467Z",
     "shell.execute_reply": "2022-08-29T11:55:40.125419Z",
     "shell.execute_reply.started": "2022-08-29T11:55:39.644109Z"
    }
   },
   "outputs": [
    {
     "data": {
      "text/html": [
       "<div>\n",
       "<style scoped>\n",
       "    .dataframe tbody tr th:only-of-type {\n",
       "        vertical-align: middle;\n",
       "    }\n",
       "\n",
       "    .dataframe tbody tr th {\n",
       "        vertical-align: top;\n",
       "    }\n",
       "\n",
       "    .dataframe thead th {\n",
       "        text-align: right;\n",
       "    }\n",
       "</style>\n",
       "<table border=\"1\" class=\"dataframe\">\n",
       "  <thead>\n",
       "    <tr style=\"text-align: right;\">\n",
       "      <th></th>\n",
       "      <th>age</th>\n",
       "      <th>bmi</th>\n",
       "      <th>children</th>\n",
       "      <th>smoker</th>\n",
       "      <th>charges</th>\n",
       "      <th>female</th>\n",
       "      <th>male</th>\n",
       "      <th>northeast</th>\n",
       "      <th>northwest</th>\n",
       "      <th>southeast</th>\n",
       "      <th>southwest</th>\n",
       "    </tr>\n",
       "  </thead>\n",
       "  <tbody>\n",
       "    <tr>\n",
       "      <th>0</th>\n",
       "      <td>19</td>\n",
       "      <td>27.900</td>\n",
       "      <td>0</td>\n",
       "      <td>1</td>\n",
       "      <td>16884.92400</td>\n",
       "      <td>1</td>\n",
       "      <td>0</td>\n",
       "      <td>0.0</td>\n",
       "      <td>0.0</td>\n",
       "      <td>0.0</td>\n",
       "      <td>1.0</td>\n",
       "    </tr>\n",
       "    <tr>\n",
       "      <th>1</th>\n",
       "      <td>18</td>\n",
       "      <td>33.770</td>\n",
       "      <td>1</td>\n",
       "      <td>0</td>\n",
       "      <td>1725.55230</td>\n",
       "      <td>0</td>\n",
       "      <td>1</td>\n",
       "      <td>0.0</td>\n",
       "      <td>0.0</td>\n",
       "      <td>1.0</td>\n",
       "      <td>0.0</td>\n",
       "    </tr>\n",
       "    <tr>\n",
       "      <th>2</th>\n",
       "      <td>28</td>\n",
       "      <td>33.000</td>\n",
       "      <td>3</td>\n",
       "      <td>0</td>\n",
       "      <td>4449.46200</td>\n",
       "      <td>0</td>\n",
       "      <td>1</td>\n",
       "      <td>0.0</td>\n",
       "      <td>0.0</td>\n",
       "      <td>1.0</td>\n",
       "      <td>0.0</td>\n",
       "    </tr>\n",
       "    <tr>\n",
       "      <th>3</th>\n",
       "      <td>33</td>\n",
       "      <td>22.705</td>\n",
       "      <td>0</td>\n",
       "      <td>0</td>\n",
       "      <td>21984.47061</td>\n",
       "      <td>0</td>\n",
       "      <td>1</td>\n",
       "      <td>0.0</td>\n",
       "      <td>1.0</td>\n",
       "      <td>0.0</td>\n",
       "      <td>0.0</td>\n",
       "    </tr>\n",
       "    <tr>\n",
       "      <th>4</th>\n",
       "      <td>32</td>\n",
       "      <td>28.880</td>\n",
       "      <td>0</td>\n",
       "      <td>0</td>\n",
       "      <td>3866.85520</td>\n",
       "      <td>0</td>\n",
       "      <td>1</td>\n",
       "      <td>0.0</td>\n",
       "      <td>1.0</td>\n",
       "      <td>0.0</td>\n",
       "      <td>0.0</td>\n",
       "    </tr>\n",
       "  </tbody>\n",
       "</table>\n",
       "</div>"
      ],
      "text/plain": [
       "   age     bmi  children  smoker      charges  female  male  northeast  \\\n",
       "0   19  27.900         0       1  16884.92400       1     0        0.0   \n",
       "1   18  33.770         1       0   1725.55230       0     1        0.0   \n",
       "2   28  33.000         3       0   4449.46200       0     1        0.0   \n",
       "3   33  22.705         0       0  21984.47061       0     1        0.0   \n",
       "4   32  28.880         0       0   3866.85520       0     1        0.0   \n",
       "\n",
       "   northwest  southeast  southwest  \n",
       "0        0.0        0.0        1.0  \n",
       "1        0.0        1.0        0.0  \n",
       "2        0.0        1.0        0.0  \n",
       "3        1.0        0.0        0.0  \n",
       "4        1.0        0.0        0.0  "
      ]
     },
     "execution_count": 21,
     "metadata": {},
     "output_type": "execute_result"
    }
   ],
   "source": [
    "# We will now join the dummy variable and OHE columns to original dataset\n",
    "\n",
    "data_new = pd.concat([data, dummies, features], axis=1)\n",
    "\n",
    "data_new = data_new.drop(columns='region', axis=1)\n",
    "data_new = data_new.drop(columns='sex', axis=1)\n",
    "\n",
    "data_new.head()"
   ]
  },
  {
   "cell_type": "markdown",
   "metadata": {},
   "source": [
    "<a id=\"section-four-three\"></a>\n",
    "## Splitting the Features and Targets"
   ]
  },
  {
   "cell_type": "code",
   "execution_count": 22,
   "metadata": {
    "execution": {
     "iopub.execute_input": "2022-08-29T11:55:40.129642Z",
     "iopub.status.busy": "2022-08-29T11:55:40.128716Z",
     "iopub.status.idle": "2022-08-29T11:55:40.134877Z",
     "shell.execute_reply": "2022-08-29T11:55:40.133822Z",
     "shell.execute_reply.started": "2022-08-29T11:55:40.129611Z"
    }
   },
   "outputs": [],
   "source": [
    "# declare the variables\n",
    "\n",
    "y = data_new.charges\n",
    "x = data_new.drop(columns='charges', axis=1)"
   ]
  },
  {
   "cell_type": "code",
   "execution_count": 23,
   "metadata": {
    "execution": {
     "iopub.execute_input": "2022-08-29T11:55:40.136249Z",
     "iopub.status.busy": "2022-08-29T11:55:40.135928Z",
     "iopub.status.idle": "2022-08-29T11:55:40.146702Z",
     "shell.execute_reply": "2022-08-29T11:55:40.145718Z",
     "shell.execute_reply.started": "2022-08-29T11:55:40.136225Z"
    }
   },
   "outputs": [
    {
     "name": "stdout",
     "output_type": "stream",
     "text": [
      "0       16884.92400\n",
      "1        1725.55230\n",
      "2        4449.46200\n",
      "3       21984.47061\n",
      "4        3866.85520\n",
      "           ...     \n",
      "1333    10600.54830\n",
      "1334     2205.98080\n",
      "1335     1629.83350\n",
      "1336     2007.94500\n",
      "1337    29141.36030\n",
      "Name: charges, Length: 1338, dtype: float64\n"
     ]
    }
   ],
   "source": [
    "# let's have a look at the target variables\n",
    "\n",
    "print(y)"
   ]
  },
  {
   "cell_type": "code",
   "execution_count": 24,
   "metadata": {
    "execution": {
     "iopub.execute_input": "2022-08-29T11:55:40.148222Z",
     "iopub.status.busy": "2022-08-29T11:55:40.147925Z",
     "iopub.status.idle": "2022-08-29T11:55:40.163691Z",
     "shell.execute_reply": "2022-08-29T11:55:40.162705Z",
     "shell.execute_reply.started": "2022-08-29T11:55:40.148196Z"
    }
   },
   "outputs": [
    {
     "name": "stdout",
     "output_type": "stream",
     "text": [
      "      age     bmi  children  smoker  female  male  northeast  northwest  \\\n",
      "0      19  27.900         0       1       1     0        0.0        0.0   \n",
      "1      18  33.770         1       0       0     1        0.0        0.0   \n",
      "2      28  33.000         3       0       0     1        0.0        0.0   \n",
      "3      33  22.705         0       0       0     1        0.0        1.0   \n",
      "4      32  28.880         0       0       0     1        0.0        1.0   \n",
      "...   ...     ...       ...     ...     ...   ...        ...        ...   \n",
      "1333   50  30.970         3       0       0     1        0.0        1.0   \n",
      "1334   18  31.920         0       0       1     0        1.0        0.0   \n",
      "1335   18  36.850         0       0       1     0        0.0        0.0   \n",
      "1336   21  25.800         0       0       1     0        0.0        0.0   \n",
      "1337   61  29.070         0       1       1     0        0.0        1.0   \n",
      "\n",
      "      southeast  southwest  \n",
      "0           0.0        1.0  \n",
      "1           1.0        0.0  \n",
      "2           1.0        0.0  \n",
      "3           0.0        0.0  \n",
      "4           0.0        0.0  \n",
      "...         ...        ...  \n",
      "1333        0.0        0.0  \n",
      "1334        0.0        0.0  \n",
      "1335        1.0        0.0  \n",
      "1336        0.0        1.0  \n",
      "1337        0.0        0.0  \n",
      "\n",
      "[1338 rows x 10 columns]\n"
     ]
    }
   ],
   "source": [
    "# let's have a look at the features\n",
    "\n",
    "print(x)"
   ]
  },
  {
   "cell_type": "markdown",
   "metadata": {},
   "source": [
    "<a id=\"section-four-four\"></a>\n",
    "## Splitting the data into training data & testing data"
   ]
  },
  {
   "cell_type": "code",
   "execution_count": 25,
   "metadata": {
    "execution": {
     "iopub.execute_input": "2022-08-29T11:55:40.165322Z",
     "iopub.status.busy": "2022-08-29T11:55:40.165009Z",
     "iopub.status.idle": "2022-08-29T11:55:40.179268Z",
     "shell.execute_reply": "2022-08-29T11:55:40.177162Z",
     "shell.execute_reply.started": "2022-08-29T11:55:40.165290Z"
    }
   },
   "outputs": [],
   "source": [
    "from sklearn.model_selection import train_test_split\n",
    "\n",
    "x_train, x_test, y_train, y_test = train_test_split(x, y, test_size = 0.2, random_state = 2)"
   ]
  },
  {
   "cell_type": "code",
   "execution_count": 26,
   "metadata": {
    "execution": {
     "iopub.execute_input": "2022-08-29T11:55:40.181731Z",
     "iopub.status.busy": "2022-08-29T11:55:40.180585Z",
     "iopub.status.idle": "2022-08-29T11:55:40.186048Z",
     "shell.execute_reply": "2022-08-29T11:55:40.185262Z",
     "shell.execute_reply.started": "2022-08-29T11:55:40.181695Z"
    }
   },
   "outputs": [
    {
     "name": "stdout",
     "output_type": "stream",
     "text": [
      "(1338, 10) (1070, 10) (268, 10)\n"
     ]
    }
   ],
   "source": [
    "# By looking at the shape, we could see the number of observations which are training and testing\n",
    "\n",
    "print(x.shape, x_train.shape, x_test.shape)"
   ]
  },
  {
   "cell_type": "markdown",
   "metadata": {},
   "source": [
    "<a id=\"section-five\"></a>\n",
    "# 5. Model Training"
   ]
  },
  {
   "cell_type": "markdown",
   "metadata": {},
   "source": [
    "<a id=\"section-five-one\"></a>\n",
    "## Linear Regression"
   ]
  },
  {
   "cell_type": "code",
   "execution_count": 27,
   "metadata": {
    "execution": {
     "iopub.execute_input": "2022-08-29T11:55:40.187359Z",
     "iopub.status.busy": "2022-08-29T11:55:40.187103Z",
     "iopub.status.idle": "2022-08-29T11:55:40.201052Z",
     "shell.execute_reply": "2022-08-29T11:55:40.199033Z",
     "shell.execute_reply.started": "2022-08-29T11:55:40.187337Z"
    }
   },
   "outputs": [
    {
     "data": {
      "text/plain": [
       "LinearRegression()"
      ]
     },
     "execution_count": 27,
     "metadata": {},
     "output_type": "execute_result"
    }
   ],
   "source": [
    "# Check the regression\n",
    "\n",
    "reg = LinearRegression()\n",
    "reg.fit(x_train.values, y_train.values)"
   ]
  },
  {
   "cell_type": "markdown",
   "metadata": {},
   "source": [
    "<a id=\"section-five-two\"></a>\n",
    "## Model Evaluation"
   ]
  },
  {
   "cell_type": "code",
   "execution_count": 28,
   "metadata": {
    "execution": {
     "iopub.execute_input": "2022-08-29T11:55:40.203306Z",
     "iopub.status.busy": "2022-08-29T11:55:40.202595Z",
     "iopub.status.idle": "2022-08-29T11:55:40.216152Z",
     "shell.execute_reply": "2022-08-29T11:55:40.215176Z",
     "shell.execute_reply.started": "2022-08-29T11:55:40.203267Z"
    }
   },
   "outputs": [],
   "source": [
    "# prediction on training data\n",
    "\n",
    "train_data_pred = reg.predict(x_train.values)"
   ]
  },
  {
   "cell_type": "code",
   "execution_count": 29,
   "metadata": {
    "execution": {
     "iopub.execute_input": "2022-08-29T11:55:40.217814Z",
     "iopub.status.busy": "2022-08-29T11:55:40.217375Z",
     "iopub.status.idle": "2022-08-29T11:55:40.225357Z",
     "shell.execute_reply": "2022-08-29T11:55:40.224496Z",
     "shell.execute_reply.started": "2022-08-29T11:55:40.217781Z"
    }
   },
   "outputs": [
    {
     "name": "stdout",
     "output_type": "stream",
     "text": [
      "R squared value:  0.7520187377309014\n"
     ]
    }
   ],
   "source": [
    "# R squared value\n",
    "\n",
    "from sklearn import metrics\n",
    "\n",
    "r2_train = metrics.r2_score(y_train, train_data_pred)\n",
    "\n",
    "print('R squared value: ',r2_train)"
   ]
  },
  {
   "cell_type": "code",
   "execution_count": 30,
   "metadata": {
    "execution": {
     "iopub.execute_input": "2022-08-29T11:55:40.227566Z",
     "iopub.status.busy": "2022-08-29T11:55:40.226781Z",
     "iopub.status.idle": "2022-08-29T11:55:40.235214Z",
     "shell.execute_reply": "2022-08-29T11:55:40.234328Z",
     "shell.execute_reply.started": "2022-08-29T11:55:40.227533Z"
    }
   },
   "outputs": [],
   "source": [
    "# prediction on testing data\n",
    "\n",
    "test_data_pred = reg.predict(x_test.values)"
   ]
  },
  {
   "cell_type": "code",
   "execution_count": 31,
   "metadata": {
    "execution": {
     "iopub.execute_input": "2022-08-29T11:55:40.236716Z",
     "iopub.status.busy": "2022-08-29T11:55:40.236419Z",
     "iopub.status.idle": "2022-08-29T11:55:40.245286Z",
     "shell.execute_reply": "2022-08-29T11:55:40.244478Z",
     "shell.execute_reply.started": "2022-08-29T11:55:40.236687Z"
    }
   },
   "outputs": [
    {
     "name": "stdout",
     "output_type": "stream",
     "text": [
      "R squared value:  0.7449415564623687\n"
     ]
    }
   ],
   "source": [
    "# R squared value\n",
    "\n",
    "r2_test = metrics.r2_score(y_test, test_data_pred)\n",
    "\n",
    "print('R squared value: ',r2_test)"
   ]
  },
  {
   "cell_type": "code",
   "execution_count": 32,
   "metadata": {
    "execution": {
     "iopub.execute_input": "2022-08-29T11:55:40.246770Z",
     "iopub.status.busy": "2022-08-29T11:55:40.246432Z",
     "iopub.status.idle": "2022-08-29T11:55:40.646056Z",
     "shell.execute_reply": "2022-08-29T11:55:40.644916Z",
     "shell.execute_reply.started": "2022-08-29T11:55:40.246742Z"
    }
   },
   "outputs": [
    {
     "data": {
      "text/plain": [
       "Text(0.5, 1.0, 'Residuals PDF')"
      ]
     },
     "execution_count": 32,
     "metadata": {},
     "output_type": "execute_result"
    },
    {
     "data": {
      "image/png": "[encoded data removed]",
      "text/plain": [
       "<Figure size 360x360 with 1 Axes>"
      ]
     },
     "metadata": {},
     "output_type": "display_data"
    }
   ],
   "source": [
    "# Residual = Differences between the targets and the predictions\n",
    "# The residuals are the estimate of errors\n",
    "\n",
    "sns.displot(y_train - train_data_pred)\n",
    "plt.title('Residuals PDF', size = 18)"
   ]
  },
  {
   "cell_type": "markdown",
   "metadata": {},
   "source": [
    "<a id=\"section-six\"></a>\n",
    "# 6. Building a Predictive System"
   ]
  },
  {
   "cell_type": "code",
   "execution_count": 33,
   "metadata": {
    "execution": {
     "iopub.execute_input": "2022-08-29T11:55:40.647592Z",
     "iopub.status.busy": "2022-08-29T11:55:40.647280Z",
     "iopub.status.idle": "2022-08-29T11:55:40.652750Z",
     "shell.execute_reply": "2022-08-29T11:55:40.651837Z",
     "shell.execute_reply.started": "2022-08-29T11:55:40.647564Z"
    }
   },
   "outputs": [],
   "source": [
    "# we select the random features in order to machine to predict respective charges \n",
    "# we will also put the values assigned to categorical varibales\n",
    "\n",
    "# features used: age:31, sex:female, bmi:25.74, children:0, smoker:no, region:southeast\n",
    "\n",
    "input_data = (31, 25.74, 0, 0, 1, 0, 0, 0, 1, 0)"
   ]
  },
  {
   "cell_type": "code",
   "execution_count": 34,
   "metadata": {
    "execution": {
     "iopub.execute_input": "2022-08-29T11:55:40.654340Z",
     "iopub.status.busy": "2022-08-29T11:55:40.653978Z",
     "iopub.status.idle": "2022-08-29T11:55:40.662242Z",
     "shell.execute_reply": "2022-08-29T11:55:40.661176Z",
     "shell.execute_reply.started": "2022-08-29T11:55:40.654314Z"
    }
   },
   "outputs": [],
   "source": [
    "# changing inupt_data into numpy array\n",
    "\n",
    "array_data = np.asarray(input_data)"
   ]
  },
  {
   "cell_type": "code",
   "execution_count": 35,
   "metadata": {
    "execution": {
     "iopub.execute_input": "2022-08-29T11:55:40.667836Z",
     "iopub.status.busy": "2022-08-29T11:55:40.667359Z",
     "iopub.status.idle": "2022-08-29T11:55:40.672481Z",
     "shell.execute_reply": "2022-08-29T11:55:40.671649Z",
     "shell.execute_reply.started": "2022-08-29T11:55:40.667800Z"
    }
   },
   "outputs": [],
   "source": [
    "# reshape the array\n",
    "\n",
    "array_data_reshaped = array_data.reshape(1,-1)"
   ]
  },
  {
   "cell_type": "code",
   "execution_count": 36,
   "metadata": {
    "execution": {
     "iopub.execute_input": "2022-08-29T11:55:40.673803Z",
     "iopub.status.busy": "2022-08-29T11:55:40.673511Z",
     "iopub.status.idle": "2022-08-29T11:55:40.682987Z",
     "shell.execute_reply": "2022-08-29T11:55:40.682137Z",
     "shell.execute_reply.started": "2022-08-29T11:55:40.673779Z"
    }
   },
   "outputs": [
    {
     "name": "stdout",
     "output_type": "stream",
     "text": [
      "The insurance charge is $ [3811.11420936]\n"
     ]
    }
   ],
   "source": [
    "prediction = reg.predict(array_data_reshaped)\n",
    "\n",
    "print('The insurance charge is $',prediction)"
   ]
  },
  {
   "cell_type": "markdown",
   "metadata": {},
   "source": [
    "The original price is 3756.8552. Our model's predictions are close to the original price, therefore the model is complete. "
   ]
  },
  {
   "cell_type": "markdown",
   "metadata": {},
   "source": [
    "That's all and thank you! I hope you liked my linear regression model and prediction with ML project. Please do let me know your reviews and advices in the comments :))"
   ]
  }
 ],
 "metadata": {
  "kernelspec": {
   "display_name": "Python 3",
   "language": "python",
   "name": "python3"
  },
  "language_info": {
   "codemirror_mode": {
    "name": "ipython",
    "version": 3
   },
   "file_extension": ".py",
   "mimetype": "text/x-python",
   "name": "python",
   "nbconvert_exporter": "python",
   "pygments_lexer": "ipython3",
   "version": "3.8.8"
  }
 },
 "nbformat": 4,
 "nbformat_minor": 4
}
